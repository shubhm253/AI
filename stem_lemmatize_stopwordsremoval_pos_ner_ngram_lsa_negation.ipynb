{
  "nbformat": 4,
  "nbformat_minor": 0,
  "metadata": {
    "colab": {
      "name": "stem_lemmatize_stopwordsremoval_pos_ner_ngram_lsa_negation.ipynb",
      "provenance": [],
      "collapsed_sections": [],
      "include_colab_link": true
    },
    "kernelspec": {
      "name": "python3",
      "display_name": "Python 3"
    }
  },
  "cells": [
    {
      "cell_type": "markdown",
      "metadata": {
        "id": "view-in-github",
        "colab_type": "text"
      },
      "source": [
        "<a href=\"https://colab.research.google.com/github/shubhm253/AI/blob/master/stem_lemmatize_stopwordsremoval_pos_ner_ngram_lsa_negation.ipynb\" target=\"_parent\"><img src=\"https://colab.research.google.com/assets/colab-badge.svg\" alt=\"Open In Colab\"/></a>"
      ]
    },
    {
      "cell_type": "code",
      "metadata": {
        "id": "jq9fnzroZAGX",
        "colab_type": "code",
        "colab": {}
      },
      "source": [
        "import nltk\n",
        "import numpy as np\n",
        "import pandas as pd\n",
        "import matplotlib.pyplot as plt\n",
        "import random"
      ],
      "execution_count": 0,
      "outputs": []
    },
    {
      "cell_type": "code",
      "metadata": {
        "id": "qOJg1A__dO07",
        "colab_type": "code",
        "colab": {}
      },
      "source": [
        "paragraph = \"\"\"Thank you all so very much. Thank you to the Academy. Thank you to all of you in this room. I have to congratulate the other incredible nominees this year. The Revenant was the product of the tireless efforts of an unbelievable cast and crew. First off, to my brother in this endeavor, Mr. Tom Hardy. Tom, your talent on screen can only be surpassed by your friendship off screen … thank you for creating a transcendent cinematic experience. Thank you to everybody at Fox and New Regency … my entire team. I have to thank everyone from the very onset of my career … To my parents; none of this would be possible without you. And to my friends, I love you dearly; you know who you are.\n",
        "\n",
        "And lastly, I just want to say this: Making The Revenant was about man's relationship to the natural world. A world that we collectively felt in 2015 as the hottest year in recorded history. Our production needed to move to the southern tip of this planet just to be able to find snow. Climate change is real, it is happening right now. It is the most urgent threat facing our entire species, and we need to work collectively together and stop procrastinating. We need to support leaders around the world who do not speak for the big polluters, but who speak for all of humanity, for the indigenous people of the world, for the billions and billions of underprivileged people out there who would be most affected by this. For our children’s children, and for those people out there whose voices have been drowned out by the politics of greed. I thank you all for this amazing award tonight. Let us not take this planet for granted. I do not take tonight for granted. Thank you so very much.\"\"\""
      ],
      "execution_count": 0,
      "outputs": []
    },
    {
      "cell_type": "code",
      "metadata": {
        "id": "p3TOsTdHdYnq",
        "colab_type": "code",
        "outputId": "eb6e5715-f120-49cc-c9ad-2fef009b50aa",
        "colab": {
          "base_uri": "https://localhost:8080/",
          "height": 54
        }
      },
      "source": [
        "paragraph"
      ],
      "execution_count": 0,
      "outputs": [
        {
          "output_type": "execute_result",
          "data": {
            "text/plain": [
              "\"Thank you all so very much. Thank you to the Academy. Thank you to all of you in this room. I have to congratulate the other incredible nominees this year. The Revenant was the product of the tireless efforts of an unbelievable cast and crew. First off, to my brother in this endeavor, Mr. Tom Hardy. Tom, your talent on screen can only be surpassed by your friendship off screen … thank you for creating a transcendent cinematic experience. Thank you to everybody at Fox and New Regency … my entire team. I have to thank everyone from the very onset of my career … To my parents; none of this would be possible without you. And to my friends, I love you dearly; you know who you are.\\n\\nAnd lastly, I just want to say this: Making The Revenant was about man's relationship to the natural world. A world that we collectively felt in 2015 as the hottest year in recorded history. Our production needed to move to the southern tip of this planet just to be able to find snow. Climate change is real, it is happening right now. It is the most urgent threat facing our entire species, and we need to work collectively together and stop procrastinating. We need to support leaders around the world who do not speak for the big polluters, but who speak for all of humanity, for the indigenous people of the world, for the billions and billions of underprivileged people out there who would be most affected by this. For our children’s children, and for those people out there whose voices have been drowned out by the politics of greed. I thank you all for this amazing award tonight. Let us not take this planet for granted. I do not take tonight for granted. Thank you so very much.\""
            ]
          },
          "metadata": {
            "tags": []
          },
          "execution_count": 9
        }
      ]
    },
    {
      "cell_type": "code",
      "metadata": {
        "id": "TPLHdMVZdaRq",
        "colab_type": "code",
        "colab": {}
      },
      "source": [
        "from nltk.stem import PorterStemmer"
      ],
      "execution_count": 0,
      "outputs": []
    },
    {
      "cell_type": "code",
      "metadata": {
        "id": "ZTlym7Hsd52V",
        "colab_type": "code",
        "colab": {}
      },
      "source": [
        "stemmer = PorterStemmer()"
      ],
      "execution_count": 0,
      "outputs": []
    },
    {
      "cell_type": "code",
      "metadata": {
        "id": "1xGWjfXwd8ed",
        "colab_type": "code",
        "outputId": "cf69c730-af36-4e5d-eec6-4dee134527fc",
        "colab": {
          "base_uri": "https://localhost:8080/",
          "height": 70
        }
      },
      "source": [
        "\n",
        "nltk.download('punkt')"
      ],
      "execution_count": 0,
      "outputs": [
        {
          "output_type": "stream",
          "text": [
            "[nltk_data] Downloading package punkt to /root/nltk_data...\n",
            "[nltk_data]   Unzipping tokenizers/punkt.zip.\n"
          ],
          "name": "stdout"
        },
        {
          "output_type": "execute_result",
          "data": {
            "text/plain": [
              "True"
            ]
          },
          "metadata": {
            "tags": []
          },
          "execution_count": 13
        }
      ]
    },
    {
      "cell_type": "code",
      "metadata": {
        "id": "BUFapimGeAxZ",
        "colab_type": "code",
        "colab": {}
      },
      "source": [
        "sentences = nltk.sent_tokenize(paragraph)"
      ],
      "execution_count": 0,
      "outputs": []
    },
    {
      "cell_type": "code",
      "metadata": {
        "id": "sB0phlM5eJZ4",
        "colab_type": "code",
        "outputId": "757d7095-c17b-4aa1-ac50-858cbd4896d8",
        "colab": {
          "base_uri": "https://localhost:8080/",
          "height": 410
        }
      },
      "source": [
        "sentences"
      ],
      "execution_count": 0,
      "outputs": [
        {
          "output_type": "execute_result",
          "data": {
            "text/plain": [
              "['Thank you all so very much.',\n",
              " 'Thank you to the Academy.',\n",
              " 'Thank you to all of you in this room.',\n",
              " 'I have to congratulate the other incredible nominees this year.',\n",
              " 'The Revenant was the product of the tireless efforts of an unbelievable cast and crew.',\n",
              " 'First off, to my brother in this endeavor, Mr. Tom Hardy.',\n",
              " 'Tom, your talent on screen can only be surpassed by your friendship off screen … thank you for creating a transcendent cinematic experience.',\n",
              " 'Thank you to everybody at Fox and New Regency … my entire team.',\n",
              " 'I have to thank everyone from the very onset of my career … To my parents; none of this would be possible without you.',\n",
              " 'And to my friends, I love you dearly; you know who you are.',\n",
              " \"And lastly, I just want to say this: Making The Revenant was about man's relationship to the natural world.\",\n",
              " 'A world that we collectively felt in 2015 as the hottest year in recorded history.',\n",
              " 'Our production needed to move to the southern tip of this planet just to be able to find snow.',\n",
              " 'Climate change is real, it is happening right now.',\n",
              " 'It is the most urgent threat facing our entire species, and we need to work collectively together and stop procrastinating.',\n",
              " 'We need to support leaders around the world who do not speak for the big polluters, but who speak for all of humanity, for the indigenous people of the world, for the billions and billions of underprivileged people out there who would be most affected by this.',\n",
              " 'For our children’s children, and for those people out there whose voices have been drowned out by the politics of greed.',\n",
              " 'I thank you all for this amazing award tonight.',\n",
              " 'Let us not take this planet for granted.',\n",
              " 'I do not take tonight for granted.',\n",
              " 'Thank you so very much.']"
            ]
          },
          "metadata": {
            "tags": []
          },
          "execution_count": 15
        }
      ]
    },
    {
      "cell_type": "code",
      "metadata": {
        "id": "e_rZwmJHeKv5",
        "colab_type": "code",
        "outputId": "f6aa3ba9-e494-4ef2-f507-4d0b84e40412",
        "colab": {
          "base_uri": "https://localhost:8080/",
          "height": 34
        }
      },
      "source": [
        "len(sentences)"
      ],
      "execution_count": 0,
      "outputs": [
        {
          "output_type": "execute_result",
          "data": {
            "text/plain": [
              "21"
            ]
          },
          "metadata": {
            "tags": []
          },
          "execution_count": 16
        }
      ]
    },
    {
      "cell_type": "code",
      "metadata": {
        "id": "quNyCyC2eNca",
        "colab_type": "code",
        "colab": {}
      },
      "source": [
        "#stemming\n",
        "for i in range(len(sentences)):\n",
        "  words = nltk.word_tokenize(sentences[i])\n",
        "  words = [stemmer.stem(word) for word in words]\n",
        "  sentences[i] = ' '.join(words)\n",
        "  "
      ],
      "execution_count": 0,
      "outputs": []
    },
    {
      "cell_type": "code",
      "metadata": {
        "id": "9X9Pmj7Seqje",
        "colab_type": "code",
        "outputId": "951d566d-d7a3-4dce-f4ff-25305f08b0d2",
        "colab": {
          "base_uri": "https://localhost:8080/",
          "height": 410
        }
      },
      "source": [
        "sentences"
      ],
      "execution_count": 0,
      "outputs": [
        {
          "output_type": "execute_result",
          "data": {
            "text/plain": [
              "['thank you all so veri much .',\n",
              " 'thank you to the academi .',\n",
              " 'thank you to all of you in thi room .',\n",
              " 'I have to congratul the other incr nomin thi year .',\n",
              " 'the reven wa the product of the tireless effort of an unbeliev cast and crew .',\n",
              " 'first off , to my brother in thi endeavor , mr. tom hardi .',\n",
              " 'tom , your talent on screen can onli be surpass by your friendship off screen … thank you for creat a transcend cinemat experi .',\n",
              " 'thank you to everybodi at fox and new regenc … my entir team .',\n",
              " 'I have to thank everyon from the veri onset of my career … To my parent ; none of thi would be possibl without you .',\n",
              " 'and to my friend , I love you dearli ; you know who you are .',\n",
              " \"and lastli , I just want to say thi : make the reven wa about man 's relationship to the natur world .\",\n",
              " 'A world that we collect felt in 2015 as the hottest year in record histori .',\n",
              " 'our product need to move to the southern tip of thi planet just to be abl to find snow .',\n",
              " 'climat chang is real , it is happen right now .',\n",
              " 'It is the most urgent threat face our entir speci , and we need to work collect togeth and stop procrastin .',\n",
              " 'We need to support leader around the world who do not speak for the big pollut , but who speak for all of human , for the indigen peopl of the world , for the billion and billion of underprivileg peopl out there who would be most affect by thi .',\n",
              " 'for our children ’ s children , and for those peopl out there whose voic have been drown out by the polit of greed .',\n",
              " 'I thank you all for thi amaz award tonight .',\n",
              " 'let us not take thi planet for grant .',\n",
              " 'I do not take tonight for grant .',\n",
              " 'thank you so veri much .']"
            ]
          },
          "metadata": {
            "tags": []
          },
          "execution_count": 23
        }
      ]
    },
    {
      "cell_type": "code",
      "metadata": {
        "id": "-2bNoA3lfYTT",
        "colab_type": "code",
        "colab": {}
      },
      "source": [
        "#lemmmatization\n",
        "\n",
        "from nltk.stem import WordNetLemmatizer\n",
        "lemmatizer = WordNetLemmatizer()"
      ],
      "execution_count": 0,
      "outputs": []
    },
    {
      "cell_type": "code",
      "metadata": {
        "id": "r4OI772hhxtG",
        "colab_type": "code",
        "colab": {}
      },
      "source": [
        "sentences = nltk.sent_tokenize(paragraph)"
      ],
      "execution_count": 0,
      "outputs": []
    },
    {
      "cell_type": "code",
      "metadata": {
        "id": "g6V_tuxLibJV",
        "colab_type": "code",
        "outputId": "98ddaa06-b38b-4877-f6ea-eccb85236073",
        "colab": {
          "base_uri": "https://localhost:8080/",
          "height": 410
        }
      },
      "source": [
        "sentences"
      ],
      "execution_count": 0,
      "outputs": [
        {
          "output_type": "execute_result",
          "data": {
            "text/plain": [
              "['Thank you all so very much.',\n",
              " 'Thank you to the Academy.',\n",
              " 'Thank you to all of you in this room.',\n",
              " 'I have to congratulate the other incredible nominees this year.',\n",
              " 'The Revenant was the product of the tireless efforts of an unbelievable cast and crew.',\n",
              " 'First off, to my brother in this endeavor, Mr. Tom Hardy.',\n",
              " 'Tom, your talent on screen can only be surpassed by your friendship off screen … thank you for creating a transcendent cinematic experience.',\n",
              " 'Thank you to everybody at Fox and New Regency … my entire team.',\n",
              " 'I have to thank everyone from the very onset of my career … To my parents; none of this would be possible without you.',\n",
              " 'And to my friends, I love you dearly; you know who you are.',\n",
              " \"And lastly, I just want to say this: Making The Revenant was about man's relationship to the natural world.\",\n",
              " 'A world that we collectively felt in 2015 as the hottest year in recorded history.',\n",
              " 'Our production needed to move to the southern tip of this planet just to be able to find snow.',\n",
              " 'Climate change is real, it is happening right now.',\n",
              " 'It is the most urgent threat facing our entire species, and we need to work collectively together and stop procrastinating.',\n",
              " 'We need to support leaders around the world who do not speak for the big polluters, but who speak for all of humanity, for the indigenous people of the world, for the billions and billions of underprivileged people out there who would be most affected by this.',\n",
              " 'For our children’s children, and for those people out there whose voices have been drowned out by the politics of greed.',\n",
              " 'I thank you all for this amazing award tonight.',\n",
              " 'Let us not take this planet for granted.',\n",
              " 'I do not take tonight for granted.',\n",
              " 'Thank you so very much.']"
            ]
          },
          "metadata": {
            "tags": []
          },
          "execution_count": 29
        }
      ]
    },
    {
      "cell_type": "code",
      "metadata": {
        "id": "A5V71go_ic8s",
        "colab_type": "code",
        "outputId": "b6541090-f78a-4938-f7d4-805a46785056",
        "colab": {
          "base_uri": "https://localhost:8080/",
          "height": 70
        }
      },
      "source": [
        "nltk.download('wordnet')"
      ],
      "execution_count": 0,
      "outputs": [
        {
          "output_type": "stream",
          "text": [
            "[nltk_data] Downloading package wordnet to /root/nltk_data...\n",
            "[nltk_data]   Unzipping corpora/wordnet.zip.\n"
          ],
          "name": "stdout"
        },
        {
          "output_type": "execute_result",
          "data": {
            "text/plain": [
              "True"
            ]
          },
          "metadata": {
            "tags": []
          },
          "execution_count": 32
        }
      ]
    },
    {
      "cell_type": "code",
      "metadata": {
        "id": "kLKUJQXxiijf",
        "colab_type": "code",
        "colab": {}
      },
      "source": [
        "for i in range(len(sentences)):\n",
        "  words = nltk.word_tokenize(sentences[i])\n",
        "  words = [lemmatizer.lemmatize(word) for word in words]\n",
        "  sentences[i] = ' '.join(words)"
      ],
      "execution_count": 0,
      "outputs": []
    },
    {
      "cell_type": "code",
      "metadata": {
        "id": "x4HUGpiDi119",
        "colab_type": "code",
        "outputId": "f0d38c84-37f8-4094-ae84-ba3537407b1d",
        "colab": {
          "base_uri": "https://localhost:8080/",
          "height": 410
        }
      },
      "source": [
        "sentences"
      ],
      "execution_count": 0,
      "outputs": [
        {
          "output_type": "execute_result",
          "data": {
            "text/plain": [
              "['Thank you all so very much .',\n",
              " 'Thank you to the Academy .',\n",
              " 'Thank you to all of you in this room .',\n",
              " 'I have to congratulate the other incredible nominee this year .',\n",
              " 'The Revenant wa the product of the tireless effort of an unbelievable cast and crew .',\n",
              " 'First off , to my brother in this endeavor , Mr. Tom Hardy .',\n",
              " 'Tom , your talent on screen can only be surpassed by your friendship off screen … thank you for creating a transcendent cinematic experience .',\n",
              " 'Thank you to everybody at Fox and New Regency … my entire team .',\n",
              " 'I have to thank everyone from the very onset of my career … To my parent ; none of this would be possible without you .',\n",
              " 'And to my friend , I love you dearly ; you know who you are .',\n",
              " \"And lastly , I just want to say this : Making The Revenant wa about man 's relationship to the natural world .\",\n",
              " 'A world that we collectively felt in 2015 a the hottest year in recorded history .',\n",
              " 'Our production needed to move to the southern tip of this planet just to be able to find snow .',\n",
              " 'Climate change is real , it is happening right now .',\n",
              " 'It is the most urgent threat facing our entire specie , and we need to work collectively together and stop procrastinating .',\n",
              " 'We need to support leader around the world who do not speak for the big polluter , but who speak for all of humanity , for the indigenous people of the world , for the billion and billion of underprivileged people out there who would be most affected by this .',\n",
              " 'For our child ’ s child , and for those people out there whose voice have been drowned out by the politics of greed .',\n",
              " 'I thank you all for this amazing award tonight .',\n",
              " 'Let u not take this planet for granted .',\n",
              " 'I do not take tonight for granted .',\n",
              " 'Thank you so very much .']"
            ]
          },
          "metadata": {
            "tags": []
          },
          "execution_count": 35
        }
      ]
    },
    {
      "cell_type": "code",
      "metadata": {
        "id": "paPjpkiBjTfE",
        "colab_type": "code",
        "outputId": "369d568e-9664-4dda-d35b-fcda0f2fd948",
        "colab": {
          "base_uri": "https://localhost:8080/",
          "height": 70
        }
      },
      "source": [
        "#stop words removal\n",
        "\n",
        "nltk.download('stopwords')"
      ],
      "execution_count": 0,
      "outputs": [
        {
          "output_type": "stream",
          "text": [
            "[nltk_data] Downloading package stopwords to /root/nltk_data...\n",
            "[nltk_data]   Unzipping corpora/stopwords.zip.\n"
          ],
          "name": "stdout"
        },
        {
          "output_type": "execute_result",
          "data": {
            "text/plain": [
              "True"
            ]
          },
          "metadata": {
            "tags": []
          },
          "execution_count": 36
        }
      ]
    },
    {
      "cell_type": "code",
      "metadata": {
        "id": "NFQZFoZatFEy",
        "colab_type": "code",
        "colab": {}
      },
      "source": [
        "from nltk.corpus import stopwords"
      ],
      "execution_count": 0,
      "outputs": []
    },
    {
      "cell_type": "code",
      "metadata": {
        "id": "KRoU5QRqtIzC",
        "colab_type": "code",
        "colab": {}
      },
      "source": [
        "sentences = nltk.sent_tokenize(paragraph)"
      ],
      "execution_count": 0,
      "outputs": []
    },
    {
      "cell_type": "code",
      "metadata": {
        "id": "OPJihsDjtlnY",
        "colab_type": "code",
        "colab": {}
      },
      "source": [
        "for i in range(len(sentences)):\n",
        "  words = nltk.word_tokenize(sentences[i])\n",
        "  newwords = [word for word in words if word not in stopwords.words('english')]\n",
        "  sentences[i] = ' '.join(newwords)"
      ],
      "execution_count": 0,
      "outputs": []
    },
    {
      "cell_type": "code",
      "metadata": {
        "id": "wD5Rayv8t8r5",
        "colab_type": "code",
        "outputId": "1dc9536f-e743-4c4e-b7d3-cd6ecf1a93bd",
        "colab": {
          "base_uri": "https://localhost:8080/",
          "height": 390
        }
      },
      "source": [
        "sentences"
      ],
      "execution_count": 0,
      "outputs": [
        {
          "output_type": "execute_result",
          "data": {
            "text/plain": [
              "['Thank much .',\n",
              " 'Thank Academy .',\n",
              " 'Thank room .',\n",
              " 'I congratulate incredible nominees year .',\n",
              " 'The Revenant product tireless efforts unbelievable cast crew .',\n",
              " 'First , brother endeavor , Mr. Tom Hardy .',\n",
              " 'Tom , talent screen surpassed friendship screen … thank creating transcendent cinematic experience .',\n",
              " 'Thank everybody Fox New Regency … entire team .',\n",
              " 'I thank everyone onset career … To parents ; none would possible without .',\n",
              " 'And friends , I love dearly ; know .',\n",
              " \"And lastly , I want say : Making The Revenant man 's relationship natural world .\",\n",
              " 'A world collectively felt 2015 hottest year recorded history .',\n",
              " 'Our production needed move southern tip planet able find snow .',\n",
              " 'Climate change real , happening right .',\n",
              " 'It urgent threat facing entire species , need work collectively together stop procrastinating .',\n",
              " 'We need support leaders around world speak big polluters , speak humanity , indigenous people world , billions billions underprivileged people would affected .',\n",
              " 'For children ’ children , people whose voices drowned politics greed .',\n",
              " 'I thank amazing award tonight .',\n",
              " 'Let us take planet granted .',\n",
              " 'I take tonight granted .',\n",
              " 'Thank much .']"
            ]
          },
          "metadata": {
            "tags": []
          },
          "execution_count": 41
        }
      ]
    },
    {
      "cell_type": "code",
      "metadata": {
        "id": "eIcfzcADuB_F",
        "colab_type": "code",
        "colab": {}
      },
      "source": [
        "#POS TAGGING\n",
        "\n",
        "words = nltk.word_tokenize(paragraph)"
      ],
      "execution_count": 0,
      "outputs": []
    },
    {
      "cell_type": "code",
      "metadata": {
        "id": "rcGfQcd1xFNE",
        "colab_type": "code",
        "outputId": "a4f2ffaa-d641-4e9b-84f3-74ab2c03d794",
        "colab": {
          "base_uri": "https://localhost:8080/",
          "height": 1000
        }
      },
      "source": [
        "words"
      ],
      "execution_count": 0,
      "outputs": [
        {
          "output_type": "execute_result",
          "data": {
            "text/plain": [
              "['Thank',\n",
              " 'you',\n",
              " 'all',\n",
              " 'so',\n",
              " 'very',\n",
              " 'much',\n",
              " '.',\n",
              " 'Thank',\n",
              " 'you',\n",
              " 'to',\n",
              " 'the',\n",
              " 'Academy',\n",
              " '.',\n",
              " 'Thank',\n",
              " 'you',\n",
              " 'to',\n",
              " 'all',\n",
              " 'of',\n",
              " 'you',\n",
              " 'in',\n",
              " 'this',\n",
              " 'room',\n",
              " '.',\n",
              " 'I',\n",
              " 'have',\n",
              " 'to',\n",
              " 'congratulate',\n",
              " 'the',\n",
              " 'other',\n",
              " 'incredible',\n",
              " 'nominees',\n",
              " 'this',\n",
              " 'year',\n",
              " '.',\n",
              " 'The',\n",
              " 'Revenant',\n",
              " 'was',\n",
              " 'the',\n",
              " 'product',\n",
              " 'of',\n",
              " 'the',\n",
              " 'tireless',\n",
              " 'efforts',\n",
              " 'of',\n",
              " 'an',\n",
              " 'unbelievable',\n",
              " 'cast',\n",
              " 'and',\n",
              " 'crew',\n",
              " '.',\n",
              " 'First',\n",
              " 'off',\n",
              " ',',\n",
              " 'to',\n",
              " 'my',\n",
              " 'brother',\n",
              " 'in',\n",
              " 'this',\n",
              " 'endeavor',\n",
              " ',',\n",
              " 'Mr.',\n",
              " 'Tom',\n",
              " 'Hardy',\n",
              " '.',\n",
              " 'Tom',\n",
              " ',',\n",
              " 'your',\n",
              " 'talent',\n",
              " 'on',\n",
              " 'screen',\n",
              " 'can',\n",
              " 'only',\n",
              " 'be',\n",
              " 'surpassed',\n",
              " 'by',\n",
              " 'your',\n",
              " 'friendship',\n",
              " 'off',\n",
              " 'screen',\n",
              " '…',\n",
              " 'thank',\n",
              " 'you',\n",
              " 'for',\n",
              " 'creating',\n",
              " 'a',\n",
              " 'transcendent',\n",
              " 'cinematic',\n",
              " 'experience',\n",
              " '.',\n",
              " 'Thank',\n",
              " 'you',\n",
              " 'to',\n",
              " 'everybody',\n",
              " 'at',\n",
              " 'Fox',\n",
              " 'and',\n",
              " 'New',\n",
              " 'Regency',\n",
              " '…',\n",
              " 'my',\n",
              " 'entire',\n",
              " 'team',\n",
              " '.',\n",
              " 'I',\n",
              " 'have',\n",
              " 'to',\n",
              " 'thank',\n",
              " 'everyone',\n",
              " 'from',\n",
              " 'the',\n",
              " 'very',\n",
              " 'onset',\n",
              " 'of',\n",
              " 'my',\n",
              " 'career',\n",
              " '…',\n",
              " 'To',\n",
              " 'my',\n",
              " 'parents',\n",
              " ';',\n",
              " 'none',\n",
              " 'of',\n",
              " 'this',\n",
              " 'would',\n",
              " 'be',\n",
              " 'possible',\n",
              " 'without',\n",
              " 'you',\n",
              " '.',\n",
              " 'And',\n",
              " 'to',\n",
              " 'my',\n",
              " 'friends',\n",
              " ',',\n",
              " 'I',\n",
              " 'love',\n",
              " 'you',\n",
              " 'dearly',\n",
              " ';',\n",
              " 'you',\n",
              " 'know',\n",
              " 'who',\n",
              " 'you',\n",
              " 'are',\n",
              " '.',\n",
              " 'And',\n",
              " 'lastly',\n",
              " ',',\n",
              " 'I',\n",
              " 'just',\n",
              " 'want',\n",
              " 'to',\n",
              " 'say',\n",
              " 'this',\n",
              " ':',\n",
              " 'Making',\n",
              " 'The',\n",
              " 'Revenant',\n",
              " 'was',\n",
              " 'about',\n",
              " 'man',\n",
              " \"'s\",\n",
              " 'relationship',\n",
              " 'to',\n",
              " 'the',\n",
              " 'natural',\n",
              " 'world',\n",
              " '.',\n",
              " 'A',\n",
              " 'world',\n",
              " 'that',\n",
              " 'we',\n",
              " 'collectively',\n",
              " 'felt',\n",
              " 'in',\n",
              " '2015',\n",
              " 'as',\n",
              " 'the',\n",
              " 'hottest',\n",
              " 'year',\n",
              " 'in',\n",
              " 'recorded',\n",
              " 'history',\n",
              " '.',\n",
              " 'Our',\n",
              " 'production',\n",
              " 'needed',\n",
              " 'to',\n",
              " 'move',\n",
              " 'to',\n",
              " 'the',\n",
              " 'southern',\n",
              " 'tip',\n",
              " 'of',\n",
              " 'this',\n",
              " 'planet',\n",
              " 'just',\n",
              " 'to',\n",
              " 'be',\n",
              " 'able',\n",
              " 'to',\n",
              " 'find',\n",
              " 'snow',\n",
              " '.',\n",
              " 'Climate',\n",
              " 'change',\n",
              " 'is',\n",
              " 'real',\n",
              " ',',\n",
              " 'it',\n",
              " 'is',\n",
              " 'happening',\n",
              " 'right',\n",
              " 'now',\n",
              " '.',\n",
              " 'It',\n",
              " 'is',\n",
              " 'the',\n",
              " 'most',\n",
              " 'urgent',\n",
              " 'threat',\n",
              " 'facing',\n",
              " 'our',\n",
              " 'entire',\n",
              " 'species',\n",
              " ',',\n",
              " 'and',\n",
              " 'we',\n",
              " 'need',\n",
              " 'to',\n",
              " 'work',\n",
              " 'collectively',\n",
              " 'together',\n",
              " 'and',\n",
              " 'stop',\n",
              " 'procrastinating',\n",
              " '.',\n",
              " 'We',\n",
              " 'need',\n",
              " 'to',\n",
              " 'support',\n",
              " 'leaders',\n",
              " 'around',\n",
              " 'the',\n",
              " 'world',\n",
              " 'who',\n",
              " 'do',\n",
              " 'not',\n",
              " 'speak',\n",
              " 'for',\n",
              " 'the',\n",
              " 'big',\n",
              " 'polluters',\n",
              " ',',\n",
              " 'but',\n",
              " 'who',\n",
              " 'speak',\n",
              " 'for',\n",
              " 'all',\n",
              " 'of',\n",
              " 'humanity',\n",
              " ',',\n",
              " 'for',\n",
              " 'the',\n",
              " 'indigenous',\n",
              " 'people',\n",
              " 'of',\n",
              " 'the',\n",
              " 'world',\n",
              " ',',\n",
              " 'for',\n",
              " 'the',\n",
              " 'billions',\n",
              " 'and',\n",
              " 'billions',\n",
              " 'of',\n",
              " 'underprivileged',\n",
              " 'people',\n",
              " 'out',\n",
              " 'there',\n",
              " 'who',\n",
              " 'would',\n",
              " 'be',\n",
              " 'most',\n",
              " 'affected',\n",
              " 'by',\n",
              " 'this',\n",
              " '.',\n",
              " 'For',\n",
              " 'our',\n",
              " 'children',\n",
              " '’',\n",
              " 's',\n",
              " 'children',\n",
              " ',',\n",
              " 'and',\n",
              " 'for',\n",
              " 'those',\n",
              " 'people',\n",
              " 'out',\n",
              " 'there',\n",
              " 'whose',\n",
              " 'voices',\n",
              " 'have',\n",
              " 'been',\n",
              " 'drowned',\n",
              " 'out',\n",
              " 'by',\n",
              " 'the',\n",
              " 'politics',\n",
              " 'of',\n",
              " 'greed',\n",
              " '.',\n",
              " 'I',\n",
              " 'thank',\n",
              " 'you',\n",
              " 'all',\n",
              " 'for',\n",
              " 'this',\n",
              " 'amazing',\n",
              " 'award',\n",
              " 'tonight',\n",
              " '.',\n",
              " 'Let',\n",
              " 'us',\n",
              " 'not',\n",
              " 'take',\n",
              " 'this',\n",
              " 'planet',\n",
              " 'for',\n",
              " 'granted',\n",
              " '.',\n",
              " 'I',\n",
              " 'do',\n",
              " 'not',\n",
              " 'take',\n",
              " 'tonight',\n",
              " 'for',\n",
              " 'granted',\n",
              " '.',\n",
              " 'Thank',\n",
              " 'you',\n",
              " 'so',\n",
              " 'very',\n",
              " 'much',\n",
              " '.']"
            ]
          },
          "metadata": {
            "tags": []
          },
          "execution_count": 43
        }
      ]
    },
    {
      "cell_type": "code",
      "metadata": {
        "id": "-n_b3m0jxGVQ",
        "colab_type": "code",
        "outputId": "27185f37-d584-43e6-bc54-b34ff201aa55",
        "colab": {
          "base_uri": "https://localhost:8080/",
          "height": 87
        }
      },
      "source": [
        "nltk.download('averaged_perceptron_tagger')\n",
        "tagged_words = nltk.pos_tag(words)"
      ],
      "execution_count": 0,
      "outputs": [
        {
          "output_type": "stream",
          "text": [
            "[nltk_data] Downloading package averaged_perceptron_tagger to\n",
            "[nltk_data]     /root/nltk_data...\n",
            "[nltk_data]   Package averaged_perceptron_tagger is already up-to-\n",
            "[nltk_data]       date!\n"
          ],
          "name": "stdout"
        }
      ]
    },
    {
      "cell_type": "code",
      "metadata": {
        "id": "kJ7iHzjNxRlQ",
        "colab_type": "code",
        "outputId": "7b1c593d-a38c-4134-f9e7-94db7b85aa9a",
        "colab": {
          "base_uri": "https://localhost:8080/",
          "height": 1000
        }
      },
      "source": [
        "tagged_words"
      ],
      "execution_count": 0,
      "outputs": [
        {
          "output_type": "execute_result",
          "data": {
            "text/plain": [
              "[('Thank', 'NNP'),\n",
              " ('you', 'PRP'),\n",
              " ('all', 'DT'),\n",
              " ('so', 'RB'),\n",
              " ('very', 'RB'),\n",
              " ('much', 'JJ'),\n",
              " ('.', '.'),\n",
              " ('Thank', 'VB'),\n",
              " ('you', 'PRP'),\n",
              " ('to', 'TO'),\n",
              " ('the', 'DT'),\n",
              " ('Academy', 'NNP'),\n",
              " ('.', '.'),\n",
              " ('Thank', 'NNP'),\n",
              " ('you', 'PRP'),\n",
              " ('to', 'TO'),\n",
              " ('all', 'DT'),\n",
              " ('of', 'IN'),\n",
              " ('you', 'PRP'),\n",
              " ('in', 'IN'),\n",
              " ('this', 'DT'),\n",
              " ('room', 'NN'),\n",
              " ('.', '.'),\n",
              " ('I', 'PRP'),\n",
              " ('have', 'VBP'),\n",
              " ('to', 'TO'),\n",
              " ('congratulate', 'VB'),\n",
              " ('the', 'DT'),\n",
              " ('other', 'JJ'),\n",
              " ('incredible', 'JJ'),\n",
              " ('nominees', 'NNS'),\n",
              " ('this', 'DT'),\n",
              " ('year', 'NN'),\n",
              " ('.', '.'),\n",
              " ('The', 'DT'),\n",
              " ('Revenant', 'NNP'),\n",
              " ('was', 'VBD'),\n",
              " ('the', 'DT'),\n",
              " ('product', 'NN'),\n",
              " ('of', 'IN'),\n",
              " ('the', 'DT'),\n",
              " ('tireless', 'NN'),\n",
              " ('efforts', 'NNS'),\n",
              " ('of', 'IN'),\n",
              " ('an', 'DT'),\n",
              " ('unbelievable', 'JJ'),\n",
              " ('cast', 'NN'),\n",
              " ('and', 'CC'),\n",
              " ('crew', 'NN'),\n",
              " ('.', '.'),\n",
              " ('First', 'NNP'),\n",
              " ('off', 'RB'),\n",
              " (',', ','),\n",
              " ('to', 'TO'),\n",
              " ('my', 'PRP$'),\n",
              " ('brother', 'NN'),\n",
              " ('in', 'IN'),\n",
              " ('this', 'DT'),\n",
              " ('endeavor', 'NN'),\n",
              " (',', ','),\n",
              " ('Mr.', 'NNP'),\n",
              " ('Tom', 'NNP'),\n",
              " ('Hardy', 'NNP'),\n",
              " ('.', '.'),\n",
              " ('Tom', 'NNP'),\n",
              " (',', ','),\n",
              " ('your', 'PRP$'),\n",
              " ('talent', 'NN'),\n",
              " ('on', 'IN'),\n",
              " ('screen', 'NN'),\n",
              " ('can', 'MD'),\n",
              " ('only', 'RB'),\n",
              " ('be', 'VB'),\n",
              " ('surpassed', 'VBN'),\n",
              " ('by', 'IN'),\n",
              " ('your', 'PRP$'),\n",
              " ('friendship', 'NN'),\n",
              " ('off', 'IN'),\n",
              " ('screen', 'JJ'),\n",
              " ('…', 'NNP'),\n",
              " ('thank', 'NN'),\n",
              " ('you', 'PRP'),\n",
              " ('for', 'IN'),\n",
              " ('creating', 'VBG'),\n",
              " ('a', 'DT'),\n",
              " ('transcendent', 'JJ'),\n",
              " ('cinematic', 'JJ'),\n",
              " ('experience', 'NN'),\n",
              " ('.', '.'),\n",
              " ('Thank', 'NNP'),\n",
              " ('you', 'PRP'),\n",
              " ('to', 'TO'),\n",
              " ('everybody', 'VB'),\n",
              " ('at', 'IN'),\n",
              " ('Fox', 'NNP'),\n",
              " ('and', 'CC'),\n",
              " ('New', 'NNP'),\n",
              " ('Regency', 'NNP'),\n",
              " ('…', 'NNP'),\n",
              " ('my', 'PRP$'),\n",
              " ('entire', 'JJ'),\n",
              " ('team', 'NN'),\n",
              " ('.', '.'),\n",
              " ('I', 'PRP'),\n",
              " ('have', 'VBP'),\n",
              " ('to', 'TO'),\n",
              " ('thank', 'VB'),\n",
              " ('everyone', 'NN'),\n",
              " ('from', 'IN'),\n",
              " ('the', 'DT'),\n",
              " ('very', 'RB'),\n",
              " ('onset', 'NN'),\n",
              " ('of', 'IN'),\n",
              " ('my', 'PRP$'),\n",
              " ('career', 'NN'),\n",
              " ('…', 'NN'),\n",
              " ('To', 'TO'),\n",
              " ('my', 'PRP$'),\n",
              " ('parents', 'NNS'),\n",
              " (';', ':'),\n",
              " ('none', 'NN'),\n",
              " ('of', 'IN'),\n",
              " ('this', 'DT'),\n",
              " ('would', 'MD'),\n",
              " ('be', 'VB'),\n",
              " ('possible', 'JJ'),\n",
              " ('without', 'IN'),\n",
              " ('you', 'PRP'),\n",
              " ('.', '.'),\n",
              " ('And', 'CC'),\n",
              " ('to', 'TO'),\n",
              " ('my', 'PRP$'),\n",
              " ('friends', 'NNS'),\n",
              " (',', ','),\n",
              " ('I', 'PRP'),\n",
              " ('love', 'VBP'),\n",
              " ('you', 'PRP'),\n",
              " ('dearly', 'RB'),\n",
              " (';', ':'),\n",
              " ('you', 'PRP'),\n",
              " ('know', 'VBP'),\n",
              " ('who', 'WP'),\n",
              " ('you', 'PRP'),\n",
              " ('are', 'VBP'),\n",
              " ('.', '.'),\n",
              " ('And', 'CC'),\n",
              " ('lastly', 'RB'),\n",
              " (',', ','),\n",
              " ('I', 'PRP'),\n",
              " ('just', 'RB'),\n",
              " ('want', 'VBP'),\n",
              " ('to', 'TO'),\n",
              " ('say', 'VB'),\n",
              " ('this', 'DT'),\n",
              " (':', ':'),\n",
              " ('Making', 'VBG'),\n",
              " ('The', 'DT'),\n",
              " ('Revenant', 'NNP'),\n",
              " ('was', 'VBD'),\n",
              " ('about', 'IN'),\n",
              " ('man', 'NN'),\n",
              " (\"'s\", 'POS'),\n",
              " ('relationship', 'NN'),\n",
              " ('to', 'TO'),\n",
              " ('the', 'DT'),\n",
              " ('natural', 'JJ'),\n",
              " ('world', 'NN'),\n",
              " ('.', '.'),\n",
              " ('A', 'DT'),\n",
              " ('world', 'NN'),\n",
              " ('that', 'IN'),\n",
              " ('we', 'PRP'),\n",
              " ('collectively', 'RB'),\n",
              " ('felt', 'VBD'),\n",
              " ('in', 'IN'),\n",
              " ('2015', 'CD'),\n",
              " ('as', 'IN'),\n",
              " ('the', 'DT'),\n",
              " ('hottest', 'JJS'),\n",
              " ('year', 'NN'),\n",
              " ('in', 'IN'),\n",
              " ('recorded', 'JJ'),\n",
              " ('history', 'NN'),\n",
              " ('.', '.'),\n",
              " ('Our', 'PRP$'),\n",
              " ('production', 'NN'),\n",
              " ('needed', 'VBN'),\n",
              " ('to', 'TO'),\n",
              " ('move', 'VB'),\n",
              " ('to', 'TO'),\n",
              " ('the', 'DT'),\n",
              " ('southern', 'JJ'),\n",
              " ('tip', 'NN'),\n",
              " ('of', 'IN'),\n",
              " ('this', 'DT'),\n",
              " ('planet', 'NN'),\n",
              " ('just', 'RB'),\n",
              " ('to', 'TO'),\n",
              " ('be', 'VB'),\n",
              " ('able', 'JJ'),\n",
              " ('to', 'TO'),\n",
              " ('find', 'VB'),\n",
              " ('snow', 'JJ'),\n",
              " ('.', '.'),\n",
              " ('Climate', 'NNP'),\n",
              " ('change', 'NN'),\n",
              " ('is', 'VBZ'),\n",
              " ('real', 'JJ'),\n",
              " (',', ','),\n",
              " ('it', 'PRP'),\n",
              " ('is', 'VBZ'),\n",
              " ('happening', 'VBG'),\n",
              " ('right', 'RB'),\n",
              " ('now', 'RB'),\n",
              " ('.', '.'),\n",
              " ('It', 'PRP'),\n",
              " ('is', 'VBZ'),\n",
              " ('the', 'DT'),\n",
              " ('most', 'RBS'),\n",
              " ('urgent', 'JJ'),\n",
              " ('threat', 'NN'),\n",
              " ('facing', 'VBG'),\n",
              " ('our', 'PRP$'),\n",
              " ('entire', 'JJ'),\n",
              " ('species', 'NNS'),\n",
              " (',', ','),\n",
              " ('and', 'CC'),\n",
              " ('we', 'PRP'),\n",
              " ('need', 'VBP'),\n",
              " ('to', 'TO'),\n",
              " ('work', 'VB'),\n",
              " ('collectively', 'RB'),\n",
              " ('together', 'RB'),\n",
              " ('and', 'CC'),\n",
              " ('stop', 'VB'),\n",
              " ('procrastinating', 'NN'),\n",
              " ('.', '.'),\n",
              " ('We', 'PRP'),\n",
              " ('need', 'VBP'),\n",
              " ('to', 'TO'),\n",
              " ('support', 'VB'),\n",
              " ('leaders', 'NNS'),\n",
              " ('around', 'IN'),\n",
              " ('the', 'DT'),\n",
              " ('world', 'NN'),\n",
              " ('who', 'WP'),\n",
              " ('do', 'VBP'),\n",
              " ('not', 'RB'),\n",
              " ('speak', 'VB'),\n",
              " ('for', 'IN'),\n",
              " ('the', 'DT'),\n",
              " ('big', 'JJ'),\n",
              " ('polluters', 'NNS'),\n",
              " (',', ','),\n",
              " ('but', 'CC'),\n",
              " ('who', 'WP'),\n",
              " ('speak', 'VBP'),\n",
              " ('for', 'IN'),\n",
              " ('all', 'DT'),\n",
              " ('of', 'IN'),\n",
              " ('humanity', 'NN'),\n",
              " (',', ','),\n",
              " ('for', 'IN'),\n",
              " ('the', 'DT'),\n",
              " ('indigenous', 'JJ'),\n",
              " ('people', 'NNS'),\n",
              " ('of', 'IN'),\n",
              " ('the', 'DT'),\n",
              " ('world', 'NN'),\n",
              " (',', ','),\n",
              " ('for', 'IN'),\n",
              " ('the', 'DT'),\n",
              " ('billions', 'NNS'),\n",
              " ('and', 'CC'),\n",
              " ('billions', 'NNS'),\n",
              " ('of', 'IN'),\n",
              " ('underprivileged', 'JJ'),\n",
              " ('people', 'NNS'),\n",
              " ('out', 'IN'),\n",
              " ('there', 'EX'),\n",
              " ('who', 'WP'),\n",
              " ('would', 'MD'),\n",
              " ('be', 'VB'),\n",
              " ('most', 'RBS'),\n",
              " ('affected', 'VBN'),\n",
              " ('by', 'IN'),\n",
              " ('this', 'DT'),\n",
              " ('.', '.'),\n",
              " ('For', 'IN'),\n",
              " ('our', 'PRP$'),\n",
              " ('children', 'NNS'),\n",
              " ('’', 'VBP'),\n",
              " ('s', 'JJ'),\n",
              " ('children', 'NNS'),\n",
              " (',', ','),\n",
              " ('and', 'CC'),\n",
              " ('for', 'IN'),\n",
              " ('those', 'DT'),\n",
              " ('people', 'NNS'),\n",
              " ('out', 'RP'),\n",
              " ('there', 'RB'),\n",
              " ('whose', 'WP$'),\n",
              " ('voices', 'NNS'),\n",
              " ('have', 'VBP'),\n",
              " ('been', 'VBN'),\n",
              " ('drowned', 'VBN'),\n",
              " ('out', 'RP'),\n",
              " ('by', 'IN'),\n",
              " ('the', 'DT'),\n",
              " ('politics', 'NNS'),\n",
              " ('of', 'IN'),\n",
              " ('greed', 'NN'),\n",
              " ('.', '.'),\n",
              " ('I', 'PRP'),\n",
              " ('thank', 'VBP'),\n",
              " ('you', 'PRP'),\n",
              " ('all', 'DT'),\n",
              " ('for', 'IN'),\n",
              " ('this', 'DT'),\n",
              " ('amazing', 'JJ'),\n",
              " ('award', 'NN'),\n",
              " ('tonight', 'NN'),\n",
              " ('.', '.'),\n",
              " ('Let', 'VB'),\n",
              " ('us', 'PRP'),\n",
              " ('not', 'RB'),\n",
              " ('take', 'VB'),\n",
              " ('this', 'DT'),\n",
              " ('planet', 'NN'),\n",
              " ('for', 'IN'),\n",
              " ('granted', 'VBN'),\n",
              " ('.', '.'),\n",
              " ('I', 'PRP'),\n",
              " ('do', 'VBP'),\n",
              " ('not', 'RB'),\n",
              " ('take', 'VB'),\n",
              " ('tonight', 'NN'),\n",
              " ('for', 'IN'),\n",
              " ('granted', 'VBN'),\n",
              " ('.', '.'),\n",
              " ('Thank', 'NNP'),\n",
              " ('you', 'PRP'),\n",
              " ('so', 'RB'),\n",
              " ('very', 'RB'),\n",
              " ('much', 'JJ'),\n",
              " ('.', '.')]"
            ]
          },
          "metadata": {
            "tags": []
          },
          "execution_count": 47
        }
      ]
    },
    {
      "cell_type": "code",
      "metadata": {
        "id": "ol-bRXiAxZoC",
        "colab_type": "code",
        "colab": {}
      },
      "source": [
        "word_tags = []\n",
        "\n",
        "for tw in tagged_words:\n",
        "  word_tags.append(tw[0] + \"_\" + tw[1])\n",
        "  \n"
      ],
      "execution_count": 0,
      "outputs": []
    },
    {
      "cell_type": "code",
      "metadata": {
        "id": "D9Px1hVnx8oh",
        "colab_type": "code",
        "outputId": "bf40c32a-e83b-4574-e310-72fd984654d6",
        "colab": {
          "base_uri": "https://localhost:8080/",
          "height": 1000
        }
      },
      "source": [
        "word_tags"
      ],
      "execution_count": 0,
      "outputs": [
        {
          "output_type": "execute_result",
          "data": {
            "text/plain": [
              "['Thank_NNP',\n",
              " 'you_PRP',\n",
              " 'all_DT',\n",
              " 'so_RB',\n",
              " 'very_RB',\n",
              " 'much_JJ',\n",
              " '._.',\n",
              " 'Thank_VB',\n",
              " 'you_PRP',\n",
              " 'to_TO',\n",
              " 'the_DT',\n",
              " 'Academy_NNP',\n",
              " '._.',\n",
              " 'Thank_NNP',\n",
              " 'you_PRP',\n",
              " 'to_TO',\n",
              " 'all_DT',\n",
              " 'of_IN',\n",
              " 'you_PRP',\n",
              " 'in_IN',\n",
              " 'this_DT',\n",
              " 'room_NN',\n",
              " '._.',\n",
              " 'I_PRP',\n",
              " 'have_VBP',\n",
              " 'to_TO',\n",
              " 'congratulate_VB',\n",
              " 'the_DT',\n",
              " 'other_JJ',\n",
              " 'incredible_JJ',\n",
              " 'nominees_NNS',\n",
              " 'this_DT',\n",
              " 'year_NN',\n",
              " '._.',\n",
              " 'The_DT',\n",
              " 'Revenant_NNP',\n",
              " 'was_VBD',\n",
              " 'the_DT',\n",
              " 'product_NN',\n",
              " 'of_IN',\n",
              " 'the_DT',\n",
              " 'tireless_NN',\n",
              " 'efforts_NNS',\n",
              " 'of_IN',\n",
              " 'an_DT',\n",
              " 'unbelievable_JJ',\n",
              " 'cast_NN',\n",
              " 'and_CC',\n",
              " 'crew_NN',\n",
              " '._.',\n",
              " 'First_NNP',\n",
              " 'off_RB',\n",
              " ',_,',\n",
              " 'to_TO',\n",
              " 'my_PRP$',\n",
              " 'brother_NN',\n",
              " 'in_IN',\n",
              " 'this_DT',\n",
              " 'endeavor_NN',\n",
              " ',_,',\n",
              " 'Mr._NNP',\n",
              " 'Tom_NNP',\n",
              " 'Hardy_NNP',\n",
              " '._.',\n",
              " 'Tom_NNP',\n",
              " ',_,',\n",
              " 'your_PRP$',\n",
              " 'talent_NN',\n",
              " 'on_IN',\n",
              " 'screen_NN',\n",
              " 'can_MD',\n",
              " 'only_RB',\n",
              " 'be_VB',\n",
              " 'surpassed_VBN',\n",
              " 'by_IN',\n",
              " 'your_PRP$',\n",
              " 'friendship_NN',\n",
              " 'off_IN',\n",
              " 'screen_JJ',\n",
              " '…_NNP',\n",
              " 'thank_NN',\n",
              " 'you_PRP',\n",
              " 'for_IN',\n",
              " 'creating_VBG',\n",
              " 'a_DT',\n",
              " 'transcendent_JJ',\n",
              " 'cinematic_JJ',\n",
              " 'experience_NN',\n",
              " '._.',\n",
              " 'Thank_NNP',\n",
              " 'you_PRP',\n",
              " 'to_TO',\n",
              " 'everybody_VB',\n",
              " 'at_IN',\n",
              " 'Fox_NNP',\n",
              " 'and_CC',\n",
              " 'New_NNP',\n",
              " 'Regency_NNP',\n",
              " '…_NNP',\n",
              " 'my_PRP$',\n",
              " 'entire_JJ',\n",
              " 'team_NN',\n",
              " '._.',\n",
              " 'I_PRP',\n",
              " 'have_VBP',\n",
              " 'to_TO',\n",
              " 'thank_VB',\n",
              " 'everyone_NN',\n",
              " 'from_IN',\n",
              " 'the_DT',\n",
              " 'very_RB',\n",
              " 'onset_NN',\n",
              " 'of_IN',\n",
              " 'my_PRP$',\n",
              " 'career_NN',\n",
              " '…_NN',\n",
              " 'To_TO',\n",
              " 'my_PRP$',\n",
              " 'parents_NNS',\n",
              " ';_:',\n",
              " 'none_NN',\n",
              " 'of_IN',\n",
              " 'this_DT',\n",
              " 'would_MD',\n",
              " 'be_VB',\n",
              " 'possible_JJ',\n",
              " 'without_IN',\n",
              " 'you_PRP',\n",
              " '._.',\n",
              " 'And_CC',\n",
              " 'to_TO',\n",
              " 'my_PRP$',\n",
              " 'friends_NNS',\n",
              " ',_,',\n",
              " 'I_PRP',\n",
              " 'love_VBP',\n",
              " 'you_PRP',\n",
              " 'dearly_RB',\n",
              " ';_:',\n",
              " 'you_PRP',\n",
              " 'know_VBP',\n",
              " 'who_WP',\n",
              " 'you_PRP',\n",
              " 'are_VBP',\n",
              " '._.',\n",
              " 'And_CC',\n",
              " 'lastly_RB',\n",
              " ',_,',\n",
              " 'I_PRP',\n",
              " 'just_RB',\n",
              " 'want_VBP',\n",
              " 'to_TO',\n",
              " 'say_VB',\n",
              " 'this_DT',\n",
              " ':_:',\n",
              " 'Making_VBG',\n",
              " 'The_DT',\n",
              " 'Revenant_NNP',\n",
              " 'was_VBD',\n",
              " 'about_IN',\n",
              " 'man_NN',\n",
              " \"'s_POS\",\n",
              " 'relationship_NN',\n",
              " 'to_TO',\n",
              " 'the_DT',\n",
              " 'natural_JJ',\n",
              " 'world_NN',\n",
              " '._.',\n",
              " 'A_DT',\n",
              " 'world_NN',\n",
              " 'that_IN',\n",
              " 'we_PRP',\n",
              " 'collectively_RB',\n",
              " 'felt_VBD',\n",
              " 'in_IN',\n",
              " '2015_CD',\n",
              " 'as_IN',\n",
              " 'the_DT',\n",
              " 'hottest_JJS',\n",
              " 'year_NN',\n",
              " 'in_IN',\n",
              " 'recorded_JJ',\n",
              " 'history_NN',\n",
              " '._.',\n",
              " 'Our_PRP$',\n",
              " 'production_NN',\n",
              " 'needed_VBN',\n",
              " 'to_TO',\n",
              " 'move_VB',\n",
              " 'to_TO',\n",
              " 'the_DT',\n",
              " 'southern_JJ',\n",
              " 'tip_NN',\n",
              " 'of_IN',\n",
              " 'this_DT',\n",
              " 'planet_NN',\n",
              " 'just_RB',\n",
              " 'to_TO',\n",
              " 'be_VB',\n",
              " 'able_JJ',\n",
              " 'to_TO',\n",
              " 'find_VB',\n",
              " 'snow_JJ',\n",
              " '._.',\n",
              " 'Climate_NNP',\n",
              " 'change_NN',\n",
              " 'is_VBZ',\n",
              " 'real_JJ',\n",
              " ',_,',\n",
              " 'it_PRP',\n",
              " 'is_VBZ',\n",
              " 'happening_VBG',\n",
              " 'right_RB',\n",
              " 'now_RB',\n",
              " '._.',\n",
              " 'It_PRP',\n",
              " 'is_VBZ',\n",
              " 'the_DT',\n",
              " 'most_RBS',\n",
              " 'urgent_JJ',\n",
              " 'threat_NN',\n",
              " 'facing_VBG',\n",
              " 'our_PRP$',\n",
              " 'entire_JJ',\n",
              " 'species_NNS',\n",
              " ',_,',\n",
              " 'and_CC',\n",
              " 'we_PRP',\n",
              " 'need_VBP',\n",
              " 'to_TO',\n",
              " 'work_VB',\n",
              " 'collectively_RB',\n",
              " 'together_RB',\n",
              " 'and_CC',\n",
              " 'stop_VB',\n",
              " 'procrastinating_NN',\n",
              " '._.',\n",
              " 'We_PRP',\n",
              " 'need_VBP',\n",
              " 'to_TO',\n",
              " 'support_VB',\n",
              " 'leaders_NNS',\n",
              " 'around_IN',\n",
              " 'the_DT',\n",
              " 'world_NN',\n",
              " 'who_WP',\n",
              " 'do_VBP',\n",
              " 'not_RB',\n",
              " 'speak_VB',\n",
              " 'for_IN',\n",
              " 'the_DT',\n",
              " 'big_JJ',\n",
              " 'polluters_NNS',\n",
              " ',_,',\n",
              " 'but_CC',\n",
              " 'who_WP',\n",
              " 'speak_VBP',\n",
              " 'for_IN',\n",
              " 'all_DT',\n",
              " 'of_IN',\n",
              " 'humanity_NN',\n",
              " ',_,',\n",
              " 'for_IN',\n",
              " 'the_DT',\n",
              " 'indigenous_JJ',\n",
              " 'people_NNS',\n",
              " 'of_IN',\n",
              " 'the_DT',\n",
              " 'world_NN',\n",
              " ',_,',\n",
              " 'for_IN',\n",
              " 'the_DT',\n",
              " 'billions_NNS',\n",
              " 'and_CC',\n",
              " 'billions_NNS',\n",
              " 'of_IN',\n",
              " 'underprivileged_JJ',\n",
              " 'people_NNS',\n",
              " 'out_IN',\n",
              " 'there_EX',\n",
              " 'who_WP',\n",
              " 'would_MD',\n",
              " 'be_VB',\n",
              " 'most_RBS',\n",
              " 'affected_VBN',\n",
              " 'by_IN',\n",
              " 'this_DT',\n",
              " '._.',\n",
              " 'For_IN',\n",
              " 'our_PRP$',\n",
              " 'children_NNS',\n",
              " '’_VBP',\n",
              " 's_JJ',\n",
              " 'children_NNS',\n",
              " ',_,',\n",
              " 'and_CC',\n",
              " 'for_IN',\n",
              " 'those_DT',\n",
              " 'people_NNS',\n",
              " 'out_RP',\n",
              " 'there_RB',\n",
              " 'whose_WP$',\n",
              " 'voices_NNS',\n",
              " 'have_VBP',\n",
              " 'been_VBN',\n",
              " 'drowned_VBN',\n",
              " 'out_RP',\n",
              " 'by_IN',\n",
              " 'the_DT',\n",
              " 'politics_NNS',\n",
              " 'of_IN',\n",
              " 'greed_NN',\n",
              " '._.',\n",
              " 'I_PRP',\n",
              " 'thank_VBP',\n",
              " 'you_PRP',\n",
              " 'all_DT',\n",
              " 'for_IN',\n",
              " 'this_DT',\n",
              " 'amazing_JJ',\n",
              " 'award_NN',\n",
              " 'tonight_NN',\n",
              " '._.',\n",
              " 'Let_VB',\n",
              " 'us_PRP',\n",
              " 'not_RB',\n",
              " 'take_VB',\n",
              " 'this_DT',\n",
              " 'planet_NN',\n",
              " 'for_IN',\n",
              " 'granted_VBN',\n",
              " '._.',\n",
              " 'I_PRP',\n",
              " 'do_VBP',\n",
              " 'not_RB',\n",
              " 'take_VB',\n",
              " 'tonight_NN',\n",
              " 'for_IN',\n",
              " 'granted_VBN',\n",
              " '._.',\n",
              " 'Thank_NNP',\n",
              " 'you_PRP',\n",
              " 'so_RB',\n",
              " 'very_RB',\n",
              " 'much_JJ',\n",
              " '._.']"
            ]
          },
          "metadata": {
            "tags": []
          },
          "execution_count": 50
        }
      ]
    },
    {
      "cell_type": "code",
      "metadata": {
        "id": "gwRq2eptx9_m",
        "colab_type": "code",
        "colab": {}
      },
      "source": [
        "tagged_paragraph = ' '.join(word_tags)"
      ],
      "execution_count": 0,
      "outputs": []
    },
    {
      "cell_type": "code",
      "metadata": {
        "id": "RPDnQyUkyNmN",
        "colab_type": "code",
        "outputId": "75336827-498f-47c7-ff4c-cb0904e7b12a",
        "colab": {
          "base_uri": "https://localhost:8080/",
          "height": 54
        }
      },
      "source": [
        "tagged_paragraph"
      ],
      "execution_count": 0,
      "outputs": [
        {
          "output_type": "execute_result",
          "data": {
            "text/plain": [
              "\"Thank_NNP you_PRP all_DT so_RB very_RB much_JJ ._. Thank_VB you_PRP to_TO the_DT Academy_NNP ._. Thank_NNP you_PRP to_TO all_DT of_IN you_PRP in_IN this_DT room_NN ._. I_PRP have_VBP to_TO congratulate_VB the_DT other_JJ incredible_JJ nominees_NNS this_DT year_NN ._. The_DT Revenant_NNP was_VBD the_DT product_NN of_IN the_DT tireless_NN efforts_NNS of_IN an_DT unbelievable_JJ cast_NN and_CC crew_NN ._. First_NNP off_RB ,_, to_TO my_PRP$ brother_NN in_IN this_DT endeavor_NN ,_, Mr._NNP Tom_NNP Hardy_NNP ._. Tom_NNP ,_, your_PRP$ talent_NN on_IN screen_NN can_MD only_RB be_VB surpassed_VBN by_IN your_PRP$ friendship_NN off_IN screen_JJ …_NNP thank_NN you_PRP for_IN creating_VBG a_DT transcendent_JJ cinematic_JJ experience_NN ._. Thank_NNP you_PRP to_TO everybody_VB at_IN Fox_NNP and_CC New_NNP Regency_NNP …_NNP my_PRP$ entire_JJ team_NN ._. I_PRP have_VBP to_TO thank_VB everyone_NN from_IN the_DT very_RB onset_NN of_IN my_PRP$ career_NN …_NN To_TO my_PRP$ parents_NNS ;_: none_NN of_IN this_DT would_MD be_VB possible_JJ without_IN you_PRP ._. And_CC to_TO my_PRP$ friends_NNS ,_, I_PRP love_VBP you_PRP dearly_RB ;_: you_PRP know_VBP who_WP you_PRP are_VBP ._. And_CC lastly_RB ,_, I_PRP just_RB want_VBP to_TO say_VB this_DT :_: Making_VBG The_DT Revenant_NNP was_VBD about_IN man_NN 's_POS relationship_NN to_TO the_DT natural_JJ world_NN ._. A_DT world_NN that_IN we_PRP collectively_RB felt_VBD in_IN 2015_CD as_IN the_DT hottest_JJS year_NN in_IN recorded_JJ history_NN ._. Our_PRP$ production_NN needed_VBN to_TO move_VB to_TO the_DT southern_JJ tip_NN of_IN this_DT planet_NN just_RB to_TO be_VB able_JJ to_TO find_VB snow_JJ ._. Climate_NNP change_NN is_VBZ real_JJ ,_, it_PRP is_VBZ happening_VBG right_RB now_RB ._. It_PRP is_VBZ the_DT most_RBS urgent_JJ threat_NN facing_VBG our_PRP$ entire_JJ species_NNS ,_, and_CC we_PRP need_VBP to_TO work_VB collectively_RB together_RB and_CC stop_VB procrastinating_NN ._. We_PRP need_VBP to_TO support_VB leaders_NNS around_IN the_DT world_NN who_WP do_VBP not_RB speak_VB for_IN the_DT big_JJ polluters_NNS ,_, but_CC who_WP speak_VBP for_IN all_DT of_IN humanity_NN ,_, for_IN the_DT indigenous_JJ people_NNS of_IN the_DT world_NN ,_, for_IN the_DT billions_NNS and_CC billions_NNS of_IN underprivileged_JJ people_NNS out_IN there_EX who_WP would_MD be_VB most_RBS affected_VBN by_IN this_DT ._. For_IN our_PRP$ children_NNS ’_VBP s_JJ children_NNS ,_, and_CC for_IN those_DT people_NNS out_RP there_RB whose_WP$ voices_NNS have_VBP been_VBN drowned_VBN out_RP by_IN the_DT politics_NNS of_IN greed_NN ._. I_PRP thank_VBP you_PRP all_DT for_IN this_DT amazing_JJ award_NN tonight_NN ._. Let_VB us_PRP not_RB take_VB this_DT planet_NN for_IN granted_VBN ._. I_PRP do_VBP not_RB take_VB tonight_NN for_IN granted_VBN ._. Thank_NNP you_PRP so_RB very_RB much_JJ ._.\""
            ]
          },
          "metadata": {
            "tags": []
          },
          "execution_count": 52
        }
      ]
    },
    {
      "cell_type": "code",
      "metadata": {
        "id": "NSR_esi-yPLg",
        "colab_type": "code",
        "colab": {}
      },
      "source": [
        "#Named entity recognition\n",
        "\n",
        "para = \"The TajMahal was built by Emperor Shah Jahan in 1632\""
      ],
      "execution_count": 0,
      "outputs": []
    },
    {
      "cell_type": "code",
      "metadata": {
        "id": "30uSaEzx0mdT",
        "colab_type": "code",
        "colab": {}
      },
      "source": [
        "words = nltk.word_tokenize(para)"
      ],
      "execution_count": 0,
      "outputs": []
    },
    {
      "cell_type": "code",
      "metadata": {
        "id": "9H0_tfJa0sOg",
        "colab_type": "code",
        "outputId": "6df9092d-1e62-43a3-b67b-abbe60906c7a",
        "colab": {
          "base_uri": "https://localhost:8080/",
          "height": 212
        }
      },
      "source": [
        "words"
      ],
      "execution_count": 0,
      "outputs": [
        {
          "output_type": "execute_result",
          "data": {
            "text/plain": [
              "['The',\n",
              " 'Taj',\n",
              " 'Mahal',\n",
              " 'was',\n",
              " 'built',\n",
              " 'by',\n",
              " 'Emperor',\n",
              " 'Shah',\n",
              " 'Jahan',\n",
              " 'in',\n",
              " '1632']"
            ]
          },
          "metadata": {
            "tags": []
          },
          "execution_count": 55
        }
      ]
    },
    {
      "cell_type": "code",
      "metadata": {
        "id": "MYbIcN770tSN",
        "colab_type": "code",
        "colab": {}
      },
      "source": [
        "tagged_words = nltk.pos_tag(words)"
      ],
      "execution_count": 0,
      "outputs": []
    },
    {
      "cell_type": "code",
      "metadata": {
        "id": "kJc1Glyt0yFm",
        "colab_type": "code",
        "outputId": "f80e2e0f-9c3e-4c98-8893-0ad713bad9bf",
        "colab": {
          "base_uri": "https://localhost:8080/",
          "height": 212
        }
      },
      "source": [
        "tagged_words"
      ],
      "execution_count": 0,
      "outputs": [
        {
          "output_type": "execute_result",
          "data": {
            "text/plain": [
              "[('The', 'DT'),\n",
              " ('Taj', 'NNP'),\n",
              " ('Mahal', 'NNP'),\n",
              " ('was', 'VBD'),\n",
              " ('built', 'VBN'),\n",
              " ('by', 'IN'),\n",
              " ('Emperor', 'NNP'),\n",
              " ('Shah', 'NNP'),\n",
              " ('Jahan', 'NNP'),\n",
              " ('in', 'IN'),\n",
              " ('1632', 'CD')]"
            ]
          },
          "metadata": {
            "tags": []
          },
          "execution_count": 57
        }
      ]
    },
    {
      "cell_type": "code",
      "metadata": {
        "id": "Usd09_-G00s5",
        "colab_type": "code",
        "outputId": "128a01f7-ea10-47b3-f042-027d14fb1438",
        "colab": {
          "base_uri": "https://localhost:8080/",
          "height": 123
        }
      },
      "source": [
        "nltk.download('maxent_ne_chunker')\n",
        "nltk.download('words')"
      ],
      "execution_count": 0,
      "outputs": [
        {
          "output_type": "stream",
          "text": [
            "[nltk_data] Downloading package maxent_ne_chunker to\n",
            "[nltk_data]     /root/nltk_data...\n",
            "[nltk_data]   Package maxent_ne_chunker is already up-to-date!\n",
            "[nltk_data] Downloading package words to /root/nltk_data...\n",
            "[nltk_data]   Package words is already up-to-date!\n"
          ],
          "name": "stdout"
        },
        {
          "output_type": "execute_result",
          "data": {
            "text/plain": [
              "True"
            ]
          },
          "metadata": {
            "tags": []
          },
          "execution_count": 61
        }
      ]
    },
    {
      "cell_type": "code",
      "metadata": {
        "id": "m_Z0hllH1HuI",
        "colab_type": "code",
        "colab": {}
      },
      "source": [
        "namedentity = nltk.ne_chunk(tagged_words)\n",
        "#namedentity.draw()"
      ],
      "execution_count": 0,
      "outputs": []
    },
    {
      "cell_type": "code",
      "metadata": {
        "id": "WFv9vj251Xdw",
        "colab_type": "code",
        "outputId": "ed746fec-73f5-4c9f-c779-22221177fae2",
        "colab": {
          "base_uri": "https://localhost:8080/",
          "height": 34
        }
      },
      "source": [
        "type(namedentity)"
      ],
      "execution_count": 0,
      "outputs": [
        {
          "output_type": "execute_result",
          "data": {
            "text/plain": [
              "nltk.tree.Tree"
            ]
          },
          "metadata": {
            "tags": []
          },
          "execution_count": 64
        }
      ]
    },
    {
      "cell_type": "code",
      "metadata": {
        "id": "EA9RcTMk1eTd",
        "colab_type": "code",
        "colab": {}
      },
      "source": [
        "paragraph2 = \"\"\"Global warming is already having significant and costly effects on our communities, our health, and our climate. Unless we take immediate action to reduce global warming emissions, these impacts will continue to intensify, grow ever more costly and damaging, and increasingly affect the entire planet\"\"\""
      ],
      "execution_count": 0,
      "outputs": []
    },
    {
      "cell_type": "code",
      "metadata": {
        "id": "RTV5xncV1vv1",
        "colab_type": "code",
        "colab": {}
      },
      "source": [
        "n = 6"
      ],
      "execution_count": 0,
      "outputs": []
    },
    {
      "cell_type": "code",
      "metadata": {
        "id": "CyHV5itY2TrT",
        "colab_type": "code",
        "colab": {}
      },
      "source": [
        "ngrams = {}"
      ],
      "execution_count": 0,
      "outputs": []
    },
    {
      "cell_type": "code",
      "metadata": {
        "id": "6g8KBrJU7kwb",
        "colab_type": "code",
        "colab": {}
      },
      "source": [
        "for i in range(len(paragraph2)-n):\n",
        "  gram = paragraph2[i:i+n]\n",
        "  if gram not in ngrams.keys():\n",
        "    ngrams[gram] = []\n",
        "    ngrams[gram].append(paragraph2[i+n])"
      ],
      "execution_count": 0,
      "outputs": []
    },
    {
      "cell_type": "code",
      "metadata": {
        "id": "STX9qYDO9kri",
        "colab_type": "code",
        "outputId": "1127c4c5-2b4b-458a-cb16-7a97564eefea",
        "colab": {
          "base_uri": "https://localhost:8080/",
          "height": 1000
        }
      },
      "source": [
        "ngrams"
      ],
      "execution_count": 0,
      "outputs": [
        {
          "output_type": "execute_result",
          "data": {
            "text/plain": [
              "{' Unles': ['s'],\n",
              " ' actio': ['n'],\n",
              " ' affec': ['t'],\n",
              " ' alrea': ['d'],\n",
              " ' and c': ['o'],\n",
              " ' and d': ['a'],\n",
              " ' and i': ['n'],\n",
              " ' and o': ['u'],\n",
              " ' clima': ['t'],\n",
              " ' commu': ['n'],\n",
              " ' conti': ['n'],\n",
              " ' costl': ['y'],\n",
              " ' damag': ['i'],\n",
              " ' effec': ['t'],\n",
              " ' emiss': ['i'],\n",
              " ' entir': ['e'],\n",
              " ' ever ': ['m'],\n",
              " ' globa': ['l'],\n",
              " ' grow ': ['e'],\n",
              " ' havin': ['g'],\n",
              " ' healt': ['h'],\n",
              " ' immed': ['i'],\n",
              " ' impac': ['t'],\n",
              " ' incre': ['a'],\n",
              " ' inten': ['s'],\n",
              " ' is al': ['r'],\n",
              " ' more ': ['c'],\n",
              " ' on ou': ['r'],\n",
              " ' our c': ['o'],\n",
              " ' our h': ['e'],\n",
              " ' plane': ['t'],\n",
              " ' reduc': ['e'],\n",
              " ' signi': ['f'],\n",
              " ' take ': ['i'],\n",
              " ' the e': ['n'],\n",
              " ' these': [' '],\n",
              " ' to in': ['t'],\n",
              " ' to re': ['d'],\n",
              " ' warmi': ['n'],\n",
              " ' we ta': ['k'],\n",
              " ' will ': ['c'],\n",
              " ', and ': ['o'],\n",
              " ', grow': [' '],\n",
              " ', our ': ['h'],\n",
              " ', thes': ['e'],\n",
              " '. Unle': ['s'],\n",
              " 'Global': [' '],\n",
              " 'Unless': [' '],\n",
              " 'action': [' '],\n",
              " 'acts w': ['i'],\n",
              " 'ady ha': ['v'],\n",
              " 'affect': [' '],\n",
              " 'aging,': [' '],\n",
              " 'ake im': ['m'],\n",
              " 'al war': ['m'],\n",
              " 'alread': ['y'],\n",
              " 'alth, ': ['a'],\n",
              " 'amagin': ['g'],\n",
              " 'and co': ['s'],\n",
              " 'and da': ['m'],\n",
              " 'and in': ['c'],\n",
              " 'and ou': ['r'],\n",
              " 'ant an': ['d'],\n",
              " 'arming': [' '],\n",
              " 'asingl': ['y'],\n",
              " 'ate ac': ['t'],\n",
              " 'ate. U': ['n'],\n",
              " 'aving ': ['s'],\n",
              " 'bal wa': ['r'],\n",
              " 'cant a': ['n'],\n",
              " 'ce glo': ['b'],\n",
              " 'climat': ['e'],\n",
              " 'commun': ['i'],\n",
              " 'contin': ['u'],\n",
              " 'costly': [' '],\n",
              " 'creasi': ['n'],\n",
              " 'ct the': [' '],\n",
              " 'ction ': ['t'],\n",
              " 'cts on': [' '],\n",
              " 'cts wi': ['l'],\n",
              " 'd cost': ['l'],\n",
              " 'd dama': ['g'],\n",
              " 'd incr': ['e'],\n",
              " 'd our ': ['c'],\n",
              " 'damagi': ['n'],\n",
              " 'diate ': ['a'],\n",
              " 'duce g': ['l'],\n",
              " 'dy hav': ['i'],\n",
              " 'e acti': ['o'],\n",
              " 'e cost': ['l'],\n",
              " 'e enti': ['r'],\n",
              " 'e glob': ['a'],\n",
              " 'e imme': ['d'],\n",
              " 'e impa': ['c'],\n",
              " 'e plan': ['e'],\n",
              " 'e take': [' '],\n",
              " 'e to i': ['n'],\n",
              " 'e. Unl': ['e'],\n",
              " 'eady h': ['a'],\n",
              " 'ealth,': [' '],\n",
              " 'easing': ['l'],\n",
              " 'ect th': ['e'],\n",
              " 'ects o': ['n'],\n",
              " 'ediate': [' '],\n",
              " 'educe ': ['g'],\n",
              " 'effect': ['s'],\n",
              " 'emissi': ['o'],\n",
              " 'ensify': [','],\n",
              " 'entire': [' '],\n",
              " 'er mor': ['e'],\n",
              " 'es, ou': ['r'],\n",
              " 'ese im': ['p'],\n",
              " 'ess we': [' '],\n",
              " 'ever m': ['o'],\n",
              " 'fect t': ['h'],\n",
              " 'fects ': ['o'],\n",
              " 'ffect ': ['t'],\n",
              " 'ffects': [' '],\n",
              " 'ficant': [' '],\n",
              " 'fy, gr': ['o'],\n",
              " 'g emis': ['s'],\n",
              " 'g is a': ['l'],\n",
              " 'g sign': ['i'],\n",
              " 'g, and': [' '],\n",
              " 'ging, ': ['a'],\n",
              " 'global': [' '],\n",
              " 'gly af': ['f'],\n",
              " 'gnific': ['a'],\n",
              " 'grow e': ['v'],\n",
              " 'h, and': [' '],\n",
              " 'having': [' '],\n",
              " 'he ent': ['i'],\n",
              " 'health': [','],\n",
              " 'hese i': ['m'],\n",
              " 'iate a': ['c'],\n",
              " 'icant ': ['a'],\n",
              " 'ies, o': ['u'],\n",
              " 'ifican': ['t'],\n",
              " 'ify, g': ['r'],\n",
              " 'ignifi': ['c'],\n",
              " 'ill co': ['n'],\n",
              " 'imate.': [' '],\n",
              " 'immedi': ['a'],\n",
              " 'impact': ['s'],\n",
              " 'increa': ['s'],\n",
              " 'ing em': ['i'],\n",
              " 'ing is': [' '],\n",
              " 'ing si': ['g'],\n",
              " 'ing, a': ['n'],\n",
              " 'ingly ': ['a'],\n",
              " 'intens': ['i'],\n",
              " 'inue t': ['o'],\n",
              " 'ion to': [' '],\n",
              " 'ions, ': ['t'],\n",
              " 'ire pl': ['a'],\n",
              " 'is alr': ['e'],\n",
              " 'ission': ['s'],\n",
              " 'ities,': [' '],\n",
              " 'ke imm': ['e'],\n",
              " 'l cont': ['i'],\n",
              " 'l warm': ['i'],\n",
              " 'less w': ['e'],\n",
              " 'limate': ['.'],\n",
              " 'll con': ['t'],\n",
              " 'lobal ': ['w'],\n",
              " 'lready': [' '],\n",
              " 'lth, a': ['n'],\n",
              " 'ly aff': ['e'],\n",
              " 'ly and': [' '],\n",
              " 'ly eff': ['e'],\n",
              " 'maging': [','],\n",
              " 'mate. ': ['U'],\n",
              " 'mediat': ['e'],\n",
              " 'ming e': ['m'],\n",
              " 'ming i': ['s'],\n",
              " 'missio': ['n'],\n",
              " 'mmedia': ['t'],\n",
              " 'mmunit': ['i'],\n",
              " 'more c': ['o'],\n",
              " 'mpacts': [' '],\n",
              " 'muniti': ['e'],\n",
              " 'n our ': ['c'],\n",
              " 'n to r': ['e'],\n",
              " 'ncreas': ['i'],\n",
              " 'nd cos': ['t'],\n",
              " 'nd dam': ['a'],\n",
              " 'nd inc': ['r'],\n",
              " 'nd our': [' '],\n",
              " 'ng emi': ['s'],\n",
              " 'ng is ': ['a'],\n",
              " 'ng sig': ['n'],\n",
              " 'ng, an': ['d'],\n",
              " 'ngly a': ['f'],\n",
              " 'nifica': ['n'],\n",
              " 'nities': [','],\n",
              " 'nless ': ['w'],\n",
              " 'ns, th': ['e'],\n",
              " 'nsify,': [' '],\n",
              " 'nt and': [' '],\n",
              " 'ntensi': ['f'],\n",
              " 'ntinue': [' '],\n",
              " 'ntire ': ['p'],\n",
              " 'nue to': [' '],\n",
              " 'o inte': ['n'],\n",
              " 'o redu': ['c'],\n",
              " 'obal w': ['a'],\n",
              " 'ommuni': ['t'],\n",
              " 'on our': [' '],\n",
              " 'on to ': ['r'],\n",
              " 'ons, t': ['h'],\n",
              " 'ontinu': ['e'],\n",
              " 'ore co': ['s'],\n",
              " 'ostly ': ['e'],\n",
              " 'our cl': ['i'],\n",
              " 'our co': ['m'],\n",
              " 'our he': ['a'],\n",
              " 'ow eve': ['r'],\n",
              " 'pacts ': ['w'],\n",
              " 'r clim': ['a'],\n",
              " 'r comm': ['u'],\n",
              " 'r heal': ['t'],\n",
              " 'r more': [' '],\n",
              " 're cos': ['t'],\n",
              " 're pla': ['n'],\n",
              " 'ready ': ['h'],\n",
              " 'reasin': ['g'],\n",
              " 'reduce': [' '],\n",
              " 'rming ': ['i'],\n",
              " 'row ev': ['e'],\n",
              " 's alre': ['a'],\n",
              " 's on o': ['u'],\n",
              " 's we t': ['a'],\n",
              " 's will': [' '],\n",
              " 's, our': [' '],\n",
              " 's, the': ['s'],\n",
              " 'se imp': ['a'],\n",
              " 'sify, ': ['g'],\n",
              " 'signif': ['i'],\n",
              " 'singly': [' '],\n",
              " 'sions,': [' '],\n",
              " 'ss we ': ['t'],\n",
              " 'ssions': [','],\n",
              " 'stly a': ['n'],\n",
              " 'stly e': ['f'],\n",
              " 't and ': ['c'],\n",
              " 't the ': ['e'],\n",
              " 'take i': ['m'],\n",
              " 'te act': ['i'],\n",
              " 'te. Un': ['l'],\n",
              " 'tensif': ['y'],\n",
              " 'th, an': ['d'],\n",
              " 'the en': ['t'],\n",
              " 'these ': ['i'],\n",
              " 'ties, ': ['o'],\n",
              " 'tinue ': ['t'],\n",
              " 'tion t': ['o'],\n",
              " 'tire p': ['l'],\n",
              " 'tly an': ['d'],\n",
              " 'tly ef': ['f'],\n",
              " 'to int': ['e'],\n",
              " 'to red': ['u'],\n",
              " 'ts on ': ['o'],\n",
              " 'ts wil': ['l'],\n",
              " 'uce gl': ['o'],\n",
              " 'ue to ': ['i'],\n",
              " 'unitie': ['s'],\n",
              " 'ur cli': ['m'],\n",
              " 'ur com': ['m'],\n",
              " 'ur hea': ['l'],\n",
              " 'ver mo': ['r'],\n",
              " 'ving s': ['i'],\n",
              " 'w ever': [' '],\n",
              " 'warmin': ['g'],\n",
              " 'we tak': ['e'],\n",
              " 'will c': ['o'],\n",
              " 'y affe': ['c'],\n",
              " 'y and ': ['d'],\n",
              " 'y effe': ['c'],\n",
              " 'y havi': ['n'],\n",
              " 'y, gro': ['w']}"
            ]
          },
          "metadata": {
            "tags": []
          },
          "execution_count": 15
        }
      ]
    },
    {
      "cell_type": "code",
      "metadata": {
        "id": "P-wKn19g9m1P",
        "colab_type": "code",
        "colab": {}
      },
      "source": [
        "#testing n gram model"
      ],
      "execution_count": 0,
      "outputs": []
    },
    {
      "cell_type": "code",
      "metadata": {
        "id": "ZM9eRzjmDBg0",
        "colab_type": "code",
        "colab": {}
      },
      "source": [
        "currentgram = paragraph2[0:n]\n",
        "result = currentgram\n",
        "for i in range(100):\n",
        "  if currentgram not in ngrams.keys():\n",
        "    break\n",
        "  possibilities = ngrams[currentgram]\n",
        "  nextitem = possibilities[random.randrange(len(possibilities))]\n",
        "  result += nextitem\n",
        "  currentgram = result[len(result)-n:len(result)]"
      ],
      "execution_count": 0,
      "outputs": []
    },
    {
      "cell_type": "code",
      "metadata": {
        "id": "8bnD4eRGF6m-",
        "colab_type": "code",
        "outputId": "fef7009c-550f-404f-9621-7a6911543a7c",
        "colab": {
          "base_uri": "https://localhost:8080/",
          "height": 34
        }
      },
      "source": [
        "print(result)"
      ],
      "execution_count": 0,
      "outputs": [
        {
          "output_type": "stream",
          "text": [
            "Global warming is already having significant and costly effects on our communities, our health, and our co\n"
          ],
          "name": "stdout"
        }
      ]
    },
    {
      "cell_type": "code",
      "metadata": {
        "id": "WzJSQ0lPF8ky",
        "colab_type": "code",
        "colab": {}
      },
      "source": [
        "#word n gram model"
      ],
      "execution_count": 0,
      "outputs": []
    },
    {
      "cell_type": "code",
      "metadata": {
        "id": "tUmP69NLJKkn",
        "colab_type": "code",
        "outputId": "3c0ed3d1-632f-4a26-fb6c-5e16c583d33b",
        "colab": {
          "base_uri": "https://localhost:8080/",
          "height": 589
        }
      },
      "source": [
        "words = nltk.word_tokenize(paragraph2)"
      ],
      "execution_count": 0,
      "outputs": [
        {
          "output_type": "error",
          "ename": "LookupError",
          "evalue": "ignored",
          "traceback": [
            "\u001b[0;31m---------------------------------------------------------------------------\u001b[0m",
            "\u001b[0;31mLookupError\u001b[0m                               Traceback (most recent call last)",
            "\u001b[0;32m<ipython-input-20-0d6e1502bd4b>\u001b[0m in \u001b[0;36m<module>\u001b[0;34m()\u001b[0m\n\u001b[0;32m----> 1\u001b[0;31m \u001b[0mwords\u001b[0m \u001b[0;34m=\u001b[0m \u001b[0mnltk\u001b[0m\u001b[0;34m.\u001b[0m\u001b[0mword_tokenize\u001b[0m\u001b[0;34m(\u001b[0m\u001b[0mparagraph2\u001b[0m\u001b[0;34m)\u001b[0m\u001b[0;34m\u001b[0m\u001b[0;34m\u001b[0m\u001b[0m\n\u001b[0m",
            "\u001b[0;32m/usr/local/lib/python3.6/dist-packages/nltk/tokenize/__init__.py\u001b[0m in \u001b[0;36mword_tokenize\u001b[0;34m(text, language, preserve_line)\u001b[0m\n\u001b[1;32m    126\u001b[0m     \u001b[0;34m:\u001b[0m\u001b[0mtype\u001b[0m \u001b[0mpreserver_line\u001b[0m\u001b[0;34m:\u001b[0m \u001b[0mbool\u001b[0m\u001b[0;34m\u001b[0m\u001b[0;34m\u001b[0m\u001b[0m\n\u001b[1;32m    127\u001b[0m     \"\"\"\n\u001b[0;32m--> 128\u001b[0;31m     \u001b[0msentences\u001b[0m \u001b[0;34m=\u001b[0m \u001b[0;34m[\u001b[0m\u001b[0mtext\u001b[0m\u001b[0;34m]\u001b[0m \u001b[0;32mif\u001b[0m \u001b[0mpreserve_line\u001b[0m \u001b[0;32melse\u001b[0m \u001b[0msent_tokenize\u001b[0m\u001b[0;34m(\u001b[0m\u001b[0mtext\u001b[0m\u001b[0;34m,\u001b[0m \u001b[0mlanguage\u001b[0m\u001b[0;34m)\u001b[0m\u001b[0;34m\u001b[0m\u001b[0;34m\u001b[0m\u001b[0m\n\u001b[0m\u001b[1;32m    129\u001b[0m     return [token for sent in sentences\n\u001b[1;32m    130\u001b[0m             for token in _treebank_word_tokenizer.tokenize(sent)]\n",
            "\u001b[0;32m/usr/local/lib/python3.6/dist-packages/nltk/tokenize/__init__.py\u001b[0m in \u001b[0;36msent_tokenize\u001b[0;34m(text, language)\u001b[0m\n\u001b[1;32m     92\u001b[0m     \u001b[0;34m:\u001b[0m\u001b[0mparam\u001b[0m \u001b[0mlanguage\u001b[0m\u001b[0;34m:\u001b[0m \u001b[0mthe\u001b[0m \u001b[0mmodel\u001b[0m \u001b[0mname\u001b[0m \u001b[0;32min\u001b[0m \u001b[0mthe\u001b[0m \u001b[0mPunkt\u001b[0m \u001b[0mcorpus\u001b[0m\u001b[0;34m\u001b[0m\u001b[0;34m\u001b[0m\u001b[0m\n\u001b[1;32m     93\u001b[0m     \"\"\"\n\u001b[0;32m---> 94\u001b[0;31m     \u001b[0mtokenizer\u001b[0m \u001b[0;34m=\u001b[0m \u001b[0mload\u001b[0m\u001b[0;34m(\u001b[0m\u001b[0;34m'tokenizers/punkt/{0}.pickle'\u001b[0m\u001b[0;34m.\u001b[0m\u001b[0mformat\u001b[0m\u001b[0;34m(\u001b[0m\u001b[0mlanguage\u001b[0m\u001b[0;34m)\u001b[0m\u001b[0;34m)\u001b[0m\u001b[0;34m\u001b[0m\u001b[0;34m\u001b[0m\u001b[0m\n\u001b[0m\u001b[1;32m     95\u001b[0m     \u001b[0;32mreturn\u001b[0m \u001b[0mtokenizer\u001b[0m\u001b[0;34m.\u001b[0m\u001b[0mtokenize\u001b[0m\u001b[0;34m(\u001b[0m\u001b[0mtext\u001b[0m\u001b[0;34m)\u001b[0m\u001b[0;34m\u001b[0m\u001b[0;34m\u001b[0m\u001b[0m\n\u001b[1;32m     96\u001b[0m \u001b[0;34m\u001b[0m\u001b[0m\n",
            "\u001b[0;32m/usr/local/lib/python3.6/dist-packages/nltk/data.py\u001b[0m in \u001b[0;36mload\u001b[0;34m(resource_url, format, cache, verbose, logic_parser, fstruct_reader, encoding)\u001b[0m\n\u001b[1;32m    832\u001b[0m \u001b[0;34m\u001b[0m\u001b[0m\n\u001b[1;32m    833\u001b[0m     \u001b[0;31m# Load the resource.\u001b[0m\u001b[0;34m\u001b[0m\u001b[0;34m\u001b[0m\u001b[0;34m\u001b[0m\u001b[0m\n\u001b[0;32m--> 834\u001b[0;31m     \u001b[0mopened_resource\u001b[0m \u001b[0;34m=\u001b[0m \u001b[0m_open\u001b[0m\u001b[0;34m(\u001b[0m\u001b[0mresource_url\u001b[0m\u001b[0;34m)\u001b[0m\u001b[0;34m\u001b[0m\u001b[0;34m\u001b[0m\u001b[0m\n\u001b[0m\u001b[1;32m    835\u001b[0m \u001b[0;34m\u001b[0m\u001b[0m\n\u001b[1;32m    836\u001b[0m     \u001b[0;32mif\u001b[0m \u001b[0mformat\u001b[0m \u001b[0;34m==\u001b[0m \u001b[0;34m'raw'\u001b[0m\u001b[0;34m:\u001b[0m\u001b[0;34m\u001b[0m\u001b[0;34m\u001b[0m\u001b[0m\n",
            "\u001b[0;32m/usr/local/lib/python3.6/dist-packages/nltk/data.py\u001b[0m in \u001b[0;36m_open\u001b[0;34m(resource_url)\u001b[0m\n\u001b[1;32m    950\u001b[0m \u001b[0;34m\u001b[0m\u001b[0m\n\u001b[1;32m    951\u001b[0m     \u001b[0;32mif\u001b[0m \u001b[0mprotocol\u001b[0m \u001b[0;32mis\u001b[0m \u001b[0;32mNone\u001b[0m \u001b[0;32mor\u001b[0m \u001b[0mprotocol\u001b[0m\u001b[0;34m.\u001b[0m\u001b[0mlower\u001b[0m\u001b[0;34m(\u001b[0m\u001b[0;34m)\u001b[0m \u001b[0;34m==\u001b[0m \u001b[0;34m'nltk'\u001b[0m\u001b[0;34m:\u001b[0m\u001b[0;34m\u001b[0m\u001b[0;34m\u001b[0m\u001b[0m\n\u001b[0;32m--> 952\u001b[0;31m         \u001b[0;32mreturn\u001b[0m \u001b[0mfind\u001b[0m\u001b[0;34m(\u001b[0m\u001b[0mpath_\u001b[0m\u001b[0;34m,\u001b[0m \u001b[0mpath\u001b[0m \u001b[0;34m+\u001b[0m \u001b[0;34m[\u001b[0m\u001b[0;34m''\u001b[0m\u001b[0;34m]\u001b[0m\u001b[0;34m)\u001b[0m\u001b[0;34m.\u001b[0m\u001b[0mopen\u001b[0m\u001b[0;34m(\u001b[0m\u001b[0;34m)\u001b[0m\u001b[0;34m\u001b[0m\u001b[0;34m\u001b[0m\u001b[0m\n\u001b[0m\u001b[1;32m    953\u001b[0m     \u001b[0;32melif\u001b[0m \u001b[0mprotocol\u001b[0m\u001b[0;34m.\u001b[0m\u001b[0mlower\u001b[0m\u001b[0;34m(\u001b[0m\u001b[0;34m)\u001b[0m \u001b[0;34m==\u001b[0m \u001b[0;34m'file'\u001b[0m\u001b[0;34m:\u001b[0m\u001b[0;34m\u001b[0m\u001b[0;34m\u001b[0m\u001b[0m\n\u001b[1;32m    954\u001b[0m         \u001b[0;31m# urllib might not use mode='rb', so handle this one ourselves:\u001b[0m\u001b[0;34m\u001b[0m\u001b[0;34m\u001b[0m\u001b[0;34m\u001b[0m\u001b[0m\n",
            "\u001b[0;32m/usr/local/lib/python3.6/dist-packages/nltk/data.py\u001b[0m in \u001b[0;36mfind\u001b[0;34m(resource_name, paths)\u001b[0m\n\u001b[1;32m    671\u001b[0m     \u001b[0msep\u001b[0m \u001b[0;34m=\u001b[0m \u001b[0;34m'*'\u001b[0m \u001b[0;34m*\u001b[0m \u001b[0;36m70\u001b[0m\u001b[0;34m\u001b[0m\u001b[0;34m\u001b[0m\u001b[0m\n\u001b[1;32m    672\u001b[0m     \u001b[0mresource_not_found\u001b[0m \u001b[0;34m=\u001b[0m \u001b[0;34m'\\n%s\\n%s\\n%s\\n'\u001b[0m \u001b[0;34m%\u001b[0m \u001b[0;34m(\u001b[0m\u001b[0msep\u001b[0m\u001b[0;34m,\u001b[0m \u001b[0mmsg\u001b[0m\u001b[0;34m,\u001b[0m \u001b[0msep\u001b[0m\u001b[0;34m)\u001b[0m\u001b[0;34m\u001b[0m\u001b[0;34m\u001b[0m\u001b[0m\n\u001b[0;32m--> 673\u001b[0;31m     \u001b[0;32mraise\u001b[0m \u001b[0mLookupError\u001b[0m\u001b[0;34m(\u001b[0m\u001b[0mresource_not_found\u001b[0m\u001b[0;34m)\u001b[0m\u001b[0;34m\u001b[0m\u001b[0;34m\u001b[0m\u001b[0m\n\u001b[0m\u001b[1;32m    674\u001b[0m \u001b[0;34m\u001b[0m\u001b[0m\n\u001b[1;32m    675\u001b[0m \u001b[0;34m\u001b[0m\u001b[0m\n",
            "\u001b[0;31mLookupError\u001b[0m: \n**********************************************************************\n  Resource \u001b[93mpunkt\u001b[0m not found.\n  Please use the NLTK Downloader to obtain the resource:\n\n  \u001b[31m>>> import nltk\n  >>> nltk.download('punkt')\n  \u001b[0m\n  Searched in:\n    - '/root/nltk_data'\n    - '/usr/share/nltk_data'\n    - '/usr/local/share/nltk_data'\n    - '/usr/lib/nltk_data'\n    - '/usr/local/lib/nltk_data'\n    - '/usr/nltk_data'\n    - '/usr/lib/nltk_data'\n    - ''\n**********************************************************************\n"
          ]
        }
      ]
    },
    {
      "cell_type": "code",
      "metadata": {
        "id": "kpL7xhHnJP02",
        "colab_type": "code",
        "outputId": "ed3883dd-c755-418d-b331-ed76ffb918c1",
        "colab": {
          "base_uri": "https://localhost:8080/",
          "height": 50
        }
      },
      "source": [
        "import nltk\n",
        "nltk.download('punkt')\n",
        "n=3\n",
        "ngrams = {}"
      ],
      "execution_count": 0,
      "outputs": [
        {
          "output_type": "stream",
          "text": [
            "[nltk_data] Downloading package punkt to /root/nltk_data...\n",
            "[nltk_data]   Unzipping tokenizers/punkt.zip.\n"
          ],
          "name": "stdout"
        }
      ]
    },
    {
      "cell_type": "code",
      "metadata": {
        "id": "yGIvGNaqJV2g",
        "colab_type": "code",
        "colab": {}
      },
      "source": [
        "words = nltk.word_tokenize(paragraph2)"
      ],
      "execution_count": 0,
      "outputs": []
    },
    {
      "cell_type": "code",
      "metadata": {
        "id": "5FVq9YgSJcWg",
        "colab_type": "code",
        "colab": {}
      },
      "source": [
        "for i in range(len(words)-n):\n",
        "  gram = ' '.join(words[i:i+n])\n",
        "  if gram not in ngrams.keys():\n",
        "    ngrams[gram] = []\n",
        "    ngrams[gram].append(words[i+n])\n",
        "    \n"
      ],
      "execution_count": 0,
      "outputs": []
    },
    {
      "cell_type": "code",
      "metadata": {
        "id": "UDiQckivLIZ2",
        "colab_type": "code",
        "outputId": "ef3506ad-1768-4f2a-bd90-462cf0d5efd2",
        "colab": {
          "base_uri": "https://localhost:8080/",
          "height": 823
        }
      },
      "source": [
        "ngrams"
      ],
      "execution_count": 0,
      "outputs": [
        {
          "output_type": "execute_result",
          "data": {
            "text/plain": [
              "{', and increasingly': ['affect'],\n",
              " ', and our': ['climate'],\n",
              " ', grow ever': ['more'],\n",
              " ', our health': [','],\n",
              " ', these impacts': ['will'],\n",
              " '. Unless we': ['take'],\n",
              " 'Global warming is': ['already'],\n",
              " 'Unless we take': ['immediate'],\n",
              " 'action to reduce': ['global'],\n",
              " 'affect the entire': ['planet'],\n",
              " 'already having significant': ['and'],\n",
              " 'and costly effects': ['on'],\n",
              " 'and damaging ,': ['and'],\n",
              " 'and increasingly affect': ['the'],\n",
              " 'and our climate': ['.'],\n",
              " 'climate . Unless': ['we'],\n",
              " 'communities , our': ['health'],\n",
              " 'continue to intensify': [','],\n",
              " 'costly and damaging': [','],\n",
              " 'costly effects on': ['our'],\n",
              " 'damaging , and': ['increasingly'],\n",
              " 'effects on our': ['communities'],\n",
              " 'emissions , these': ['impacts'],\n",
              " 'ever more costly': ['and'],\n",
              " 'global warming emissions': [','],\n",
              " 'grow ever more': ['costly'],\n",
              " 'having significant and': ['costly'],\n",
              " 'health , and': ['our'],\n",
              " 'immediate action to': ['reduce'],\n",
              " 'impacts will continue': ['to'],\n",
              " 'increasingly affect the': ['entire'],\n",
              " 'intensify , grow': ['ever'],\n",
              " 'is already having': ['significant'],\n",
              " 'more costly and': ['damaging'],\n",
              " 'on our communities': [','],\n",
              " 'our climate .': ['Unless'],\n",
              " 'our communities ,': ['our'],\n",
              " 'our health ,': ['and'],\n",
              " 'reduce global warming': ['emissions'],\n",
              " 'significant and costly': ['effects'],\n",
              " 'take immediate action': ['to'],\n",
              " 'these impacts will': ['continue'],\n",
              " 'to intensify ,': ['grow'],\n",
              " 'to reduce global': ['warming'],\n",
              " 'warming emissions ,': ['these'],\n",
              " 'warming is already': ['having'],\n",
              " 'we take immediate': ['action'],\n",
              " 'will continue to': ['intensify']}"
            ]
          },
          "metadata": {
            "tags": []
          },
          "execution_count": 53
        }
      ]
    },
    {
      "cell_type": "code",
      "metadata": {
        "id": "Y0G9ssxALScd",
        "colab_type": "code",
        "colab": {}
      },
      "source": [
        "\n",
        "  \n"
      ],
      "execution_count": 0,
      "outputs": []
    },
    {
      "cell_type": "code",
      "metadata": {
        "id": "ZqY-xv8qUT9S",
        "colab_type": "code",
        "colab": {}
      },
      "source": [
        "currentgram = ' '.join(words[0:n])\n",
        "result = currentgram\n"
      ],
      "execution_count": 0,
      "outputs": []
    },
    {
      "cell_type": "code",
      "metadata": {
        "id": "mvHhrFT4VBWC",
        "colab_type": "code",
        "colab": {}
      },
      "source": [
        "for i in range(10):\n",
        "  if currentgram not in ngrams.keys():\n",
        "    break\n",
        "  possibilities = ngrams[currentgram]\n",
        "  nextitem = possibilities[random.randrange(len(possibilities))]\n",
        "  result += ' '+nextitem\n",
        "  rwords = nltk.word_tokenize(result)\n",
        "  currentgram = ' '.join(rwords[len(rwords)-n:len(rwords)])"
      ],
      "execution_count": 0,
      "outputs": []
    },
    {
      "cell_type": "code",
      "metadata": {
        "id": "IAtjJ5P9VaPu",
        "colab_type": "code",
        "outputId": "179ed2d0-d52b-4be5-a789-d1d1bd304b04",
        "colab": {
          "base_uri": "https://localhost:8080/",
          "height": 34
        }
      },
      "source": [
        "print(result)"
      ],
      "execution_count": 0,
      "outputs": [
        {
          "output_type": "stream",
          "text": [
            "Global warming is already having significant and costly effects on our communities ,\n"
          ],
          "name": "stdout"
        }
      ]
    },
    {
      "cell_type": "code",
      "metadata": {
        "id": "KD-mfcWZV5z2",
        "colab_type": "code",
        "colab": {}
      },
      "source": [
        "from sklearn.feature_extraction.text import TfidfVectorizer\n",
        "from sklearn.decomposition import TruncatedSVD"
      ],
      "execution_count": 0,
      "outputs": []
    },
    {
      "cell_type": "code",
      "metadata": {
        "id": "umviDdMw8H1I",
        "colab_type": "code",
        "colab": {}
      },
      "source": [
        "dataset = [\"The amount of polution is increasing day by day\",\n",
        "           \"The concert was just great\",\n",
        "           \"I love to see Gordon Ramsay cook\",\n",
        "           \"Google is introducing a new technology\",\n",
        "           \"AI Robots are examples of great technology present today\",\n",
        "           \"All of us were singing in the concert\",\n",
        "           \"We have launch campaigns to stop pollution and global warming\"]"
      ],
      "execution_count": 0,
      "outputs": []
    },
    {
      "cell_type": "code",
      "metadata": {
        "id": "6yxuItgT8L6_",
        "colab_type": "code",
        "colab": {}
      },
      "source": [
        "dataset = [line.lower() for line in dataset]"
      ],
      "execution_count": 0,
      "outputs": []
    },
    {
      "cell_type": "code",
      "metadata": {
        "id": "B8RWkZBJ83WR",
        "colab_type": "code",
        "outputId": "a8c178e5-91fc-4647-dc97-3303f265aad8",
        "colab": {
          "base_uri": "https://localhost:8080/",
          "height": 134
        }
      },
      "source": [
        "dataset"
      ],
      "execution_count": 0,
      "outputs": [
        {
          "output_type": "execute_result",
          "data": {
            "text/plain": [
              "['the amount of polution is increasing day by day',\n",
              " 'the concert was just great',\n",
              " 'i love to see gordon ramsay cook',\n",
              " 'google is introducing a new technology',\n",
              " 'ai robots are examples of great technology present today',\n",
              " 'all of us were singing in the concert',\n",
              " 'we have launch campaigns to stop pollution and global warming']"
            ]
          },
          "metadata": {
            "tags": []
          },
          "execution_count": 4
        }
      ]
    },
    {
      "cell_type": "code",
      "metadata": {
        "id": "zRXC3G7u847v",
        "colab_type": "code",
        "colab": {}
      },
      "source": [
        "vectorizer = TfidfVectorizer()\n",
        "x = vectorizer.fit_transform(dataset)"
      ],
      "execution_count": 0,
      "outputs": []
    },
    {
      "cell_type": "code",
      "metadata": {
        "id": "eV_Snqgq9hMx",
        "colab_type": "code",
        "outputId": "4564504f-b37b-4427-9c5e-6883546b7c9c",
        "colab": {
          "base_uri": "https://localhost:8080/",
          "height": 151
        }
      },
      "source": [
        "print(x[0])"
      ],
      "execution_count": 0,
      "outputs": [
        {
          "output_type": "stream",
          "text": [
            "  (0, 5)\t0.3211483974289089\n",
            "  (0, 9)\t0.6422967948578178\n",
            "  (0, 17)\t0.3211483974289089\n",
            "  (0, 19)\t0.2665807498646048\n",
            "  (0, 26)\t0.3211483974289089\n",
            "  (0, 24)\t0.2278643877752444\n",
            "  (0, 2)\t0.3211483974289089\n",
            "  (0, 34)\t0.2278643877752444\n"
          ],
          "name": "stdout"
        }
      ]
    },
    {
      "cell_type": "code",
      "metadata": {
        "id": "n-9arnfi-c9H",
        "colab_type": "code",
        "outputId": "ffd60ea9-713d-4a46-90be-27bde01deee9",
        "colab": {
          "base_uri": "https://localhost:8080/",
          "height": 50
        }
      },
      "source": [
        "lsa = TruncatedSVD(n_components=4, n_iter=4)\n",
        "lsa.fit(x)"
      ],
      "execution_count": 0,
      "outputs": [
        {
          "output_type": "execute_result",
          "data": {
            "text/plain": [
              "TruncatedSVD(algorithm='randomized', n_components=4, n_iter=4,\n",
              "             random_state=None, tol=0.0)"
            ]
          },
          "metadata": {
            "tags": []
          },
          "execution_count": 7
        }
      ]
    },
    {
      "cell_type": "code",
      "metadata": {
        "id": "CnmulJA2_4gv",
        "colab_type": "code",
        "colab": {}
      },
      "source": [
        "row1 = lsa.components_[0]"
      ],
      "execution_count": 0,
      "outputs": []
    },
    {
      "cell_type": "code",
      "metadata": {
        "id": "ZWJ5QoUM_8nK",
        "colab_type": "code",
        "outputId": "0dcae1b1-e9b7-40aa-bdd4-2d2731b63fc9",
        "colab": {
          "base_uri": "https://localhost:8080/",
          "height": 202
        }
      },
      "source": [
        "row1"
      ],
      "execution_count": 0,
      "outputs": [
        {
          "output_type": "execute_result",
          "data": {
            "text/plain": [
              "array([ 1.24191973e-01,  1.78240252e-01,  1.14460798e-01,  6.52410673e-17,\n",
              "        1.24191973e-01,  1.14460798e-01,  6.66964302e-17,  3.44988739e-01,\n",
              "       -1.36186001e-16,  2.28921595e-01,  1.24191973e-01,  8.08084584e-17,\n",
              "        9.72770950e-02, -1.36186001e-16,  3.00124026e-01,  8.08084584e-17,\n",
              "        1.78240252e-01,  1.14460798e-01,  9.72770950e-02,  1.75760635e-01,\n",
              "        2.37365829e-01,  8.08084584e-17, -1.36186001e-16,  9.72770950e-02,\n",
              "        2.95798061e-01,  8.08084584e-17,  1.14460798e-01,  1.24191973e-01,\n",
              "       -1.36186001e-16,  1.24191973e-01, -1.36186001e-16,  1.78240252e-01,\n",
              "        8.08084584e-17,  1.83838346e-01,  3.76098295e-01, -7.78895578e-17,\n",
              "        1.24191973e-01,  1.78240252e-01,  7.02537173e-17,  2.37365829e-01,\n",
              "        7.02537173e-17,  1.78240252e-01])"
            ]
          },
          "metadata": {
            "tags": []
          },
          "execution_count": 9
        }
      ]
    },
    {
      "cell_type": "code",
      "metadata": {
        "id": "CSCVZpS7_93k",
        "colab_type": "code",
        "colab": {}
      },
      "source": [
        "terms = vectorizer.get_feature_names()"
      ],
      "execution_count": 0,
      "outputs": []
    },
    {
      "cell_type": "code",
      "metadata": {
        "id": "0EaftNNbAXqk",
        "colab_type": "code",
        "outputId": "30557a1d-91e4-4cde-b4d8-8d2c91277db8",
        "colab": {
          "base_uri": "https://localhost:8080/",
          "height": 722
        }
      },
      "source": [
        "terms"
      ],
      "execution_count": 0,
      "outputs": [
        {
          "output_type": "execute_result",
          "data": {
            "text/plain": [
              "['ai',\n",
              " 'all',\n",
              " 'amount',\n",
              " 'and',\n",
              " 'are',\n",
              " 'by',\n",
              " 'campaigns',\n",
              " 'concert',\n",
              " 'cook',\n",
              " 'day',\n",
              " 'examples',\n",
              " 'global',\n",
              " 'google',\n",
              " 'gordon',\n",
              " 'great',\n",
              " 'have',\n",
              " 'in',\n",
              " 'increasing',\n",
              " 'introducing',\n",
              " 'is',\n",
              " 'just',\n",
              " 'launch',\n",
              " 'love',\n",
              " 'new',\n",
              " 'of',\n",
              " 'pollution',\n",
              " 'polution',\n",
              " 'present',\n",
              " 'ramsay',\n",
              " 'robots',\n",
              " 'see',\n",
              " 'singing',\n",
              " 'stop',\n",
              " 'technology',\n",
              " 'the',\n",
              " 'to',\n",
              " 'today',\n",
              " 'us',\n",
              " 'warming',\n",
              " 'was',\n",
              " 'we',\n",
              " 'were']"
            ]
          },
          "metadata": {
            "tags": []
          },
          "execution_count": 11
        }
      ]
    },
    {
      "cell_type": "code",
      "metadata": {
        "id": "uY5n4Q0HFMur",
        "colab_type": "code",
        "colab": {}
      },
      "source": [
        "concept_words = {}"
      ],
      "execution_count": 0,
      "outputs": []
    },
    {
      "cell_type": "code",
      "metadata": {
        "id": "aM8d1Cq8AY4D",
        "colab_type": "code",
        "colab": {}
      },
      "source": [
        "for i, comp in enumerate(lsa.components_):\n",
        "  componentterms = zip(terms,comp)\n",
        "  sortedterms = sorted(componentterms, key=lambda x:x[1], reverse=True)\n",
        "  sortedterms = sortedterms[:10]\n",
        "  concept_words[\"Concept:\"+str(i)] = sortedterms"
      ],
      "execution_count": 0,
      "outputs": []
    },
    {
      "cell_type": "code",
      "metadata": {
        "id": "FGegxnHYDiTt",
        "colab_type": "code",
        "outputId": "bc0b841b-9c61-4483-b0e8-ff4c861c6a5f",
        "colab": {
          "base_uri": "https://localhost:8080/",
          "height": 689
        }
      },
      "source": [
        "concept_words"
      ],
      "execution_count": 0,
      "outputs": [
        {
          "output_type": "execute_result",
          "data": {
            "text/plain": [
              "{'Concept:0': [('the', 0.37609829529263733),\n",
              "  ('concert', 0.3449887392330657),\n",
              "  ('great', 0.3001240258948738),\n",
              "  ('of', 0.29579806095266675),\n",
              "  ('just', 0.23736582929791214),\n",
              "  ('was', 0.23736582929791214),\n",
              "  ('day', 0.22892159541504536),\n",
              "  ('technology', 0.18383834567413418),\n",
              "  ('all', 0.17824025175628963),\n",
              "  ('us', 0.1782402517562895)],\n",
              " 'Concept:1': [('to', 0.41578844396700704),\n",
              "  ('cook', 0.28359165793510754),\n",
              "  ('gordon', 0.28359165793510754),\n",
              "  ('love', 0.28359165793510754),\n",
              "  ('ramsay', 0.28359165793510754),\n",
              "  ('see', 0.28359165793510754),\n",
              "  ('campaigns', 0.21730644711292443),\n",
              "  ('warming', 0.21730644711292443),\n",
              "  ('we', 0.21730644711292443),\n",
              "  ('and', 0.2173064471129244)],\n",
              " 'Concept:2': [('technology', 0.3779180676714399),\n",
              "  ('is', 0.3419614380631986),\n",
              "  ('google', 0.3413969441909745),\n",
              "  ('introducing', 0.3413969441909745),\n",
              "  ('new', 0.3413969441909745),\n",
              "  ('day', 0.14112432680994744),\n",
              "  ('ai', 0.11387892195373037),\n",
              "  ('are', 0.11387892195373027),\n",
              "  ('today', 0.11387892195373027),\n",
              "  ('examples', 0.11387892195373024)],\n",
              " 'Concept:3': [('day', 0.4654267679041099),\n",
              "  ('by', 0.23271338395205501),\n",
              "  ('increasing', 0.23271338395205496),\n",
              "  ('polution', 0.23271338395205496),\n",
              "  ('amount', 0.2327133839520549),\n",
              "  ('is', 0.21264455202450042),\n",
              "  ('the', 0.12724213180694355),\n",
              "  ('all', 0.05644664752726566),\n",
              "  ('in', 0.05644664752726557),\n",
              "  ('singing', 0.05644664752726557)]}"
            ]
          },
          "metadata": {
            "tags": []
          },
          "execution_count": 16
        }
      ]
    },
    {
      "cell_type": "code",
      "metadata": {
        "id": "tDnKO3n_Fh2l",
        "colab_type": "code",
        "outputId": "64cfe422-b210-4ef8-8a38-959f00284974",
        "colab": {
          "base_uri": "https://localhost:8080/",
          "height": 1000
        }
      },
      "source": [
        "for key in concept_words.keys():\n",
        "  sentence_scores = []\n",
        "  for sentence in dataset:\n",
        "    words = nltk.word_tokenize(sentence)\n",
        "    score = 0\n",
        "    for word in words:\n",
        "      for word_with_score in concept_words[key]:\n",
        "        if word == word_with_score[0]:\n",
        "          score += word_with_score[1]\n",
        "      sentence_scores.append(score)\n",
        "  print(\"\\n\"+key+\":\")\n",
        "  for sentence_score in sentence_scores:\n",
        "    print(sentence_score)"
      ],
      "execution_count": 0,
      "outputs": [
        {
          "output_type": "stream",
          "text": [
            "\n",
            "Concept:0:\n",
            "0.37609829529263733\n",
            "0.37609829529263733\n",
            "0.6718963562453041\n",
            "0.6718963562453041\n",
            "0.6718963562453041\n",
            "0.6718963562453041\n",
            "0.9008179516603494\n",
            "0.9008179516603494\n",
            "1.1297395470753948\n",
            "0.37609829529263733\n",
            "0.721087034525703\n",
            "0.9584528638236152\n",
            "1.1958186931215273\n",
            "1.4959427190164012\n",
            "0\n",
            "0\n",
            "0\n",
            "0\n",
            "0\n",
            "0\n",
            "0\n",
            "0\n",
            "0\n",
            "0\n",
            "0\n",
            "0\n",
            "0.18383834567413418\n",
            "0\n",
            "0\n",
            "0\n",
            "0\n",
            "0.29579806095266675\n",
            "0.5959220868475406\n",
            "0.7797604325216747\n",
            "0.7797604325216747\n",
            "0.7797604325216747\n",
            "0.17824025175628963\n",
            "0.47403831270895636\n",
            "0.6522785644652458\n",
            "0.6522785644652458\n",
            "0.6522785644652458\n",
            "0.6522785644652458\n",
            "1.028376859757883\n",
            "1.3733655989909488\n",
            "0\n",
            "0\n",
            "0\n",
            "0\n",
            "0\n",
            "0\n",
            "0\n",
            "0\n",
            "0\n",
            "0\n",
            "\n",
            "Concept:1:\n",
            "0\n",
            "0\n",
            "0\n",
            "0\n",
            "0\n",
            "0\n",
            "0\n",
            "0\n",
            "0\n",
            "0\n",
            "0\n",
            "0\n",
            "0\n",
            "0\n",
            "0\n",
            "0.28359165793510754\n",
            "0.6993801019021146\n",
            "0.9829717598372222\n",
            "1.2665634177723297\n",
            "1.5501550757074374\n",
            "1.833746733642545\n",
            "0\n",
            "0\n",
            "0\n",
            "0\n",
            "0\n",
            "0\n",
            "0\n",
            "0\n",
            "0\n",
            "0\n",
            "0\n",
            "0\n",
            "0\n",
            "0\n",
            "0\n",
            "0\n",
            "0\n",
            "0\n",
            "0\n",
            "0\n",
            "0\n",
            "0\n",
            "0\n",
            "0.21730644711292443\n",
            "0.21730644711292443\n",
            "0.21730644711292443\n",
            "0.43461289422584887\n",
            "0.8504013381928559\n",
            "0.8504013381928559\n",
            "0.8504013381928559\n",
            "1.0677077853057804\n",
            "1.0677077853057804\n",
            "1.2850142324187048\n",
            "\n",
            "Concept:2:\n",
            "0\n",
            "0\n",
            "0\n",
            "0\n",
            "0.3419614380631986\n",
            "0.3419614380631986\n",
            "0.48308576487314603\n",
            "0.48308576487314603\n",
            "0.6242100916830935\n",
            "0\n",
            "0\n",
            "0\n",
            "0\n",
            "0\n",
            "0\n",
            "0\n",
            "0\n",
            "0\n",
            "0\n",
            "0\n",
            "0\n",
            "0.3413969441909745\n",
            "0.6833583822541731\n",
            "1.0247553264451477\n",
            "1.0247553264451477\n",
            "1.3661522706361222\n",
            "1.7440703383075622\n",
            "0.11387892195373037\n",
            "0.11387892195373037\n",
            "0.22775784390746062\n",
            "0.34163676586119085\n",
            "0.34163676586119085\n",
            "0.34163676586119085\n",
            "0.7195548335326307\n",
            "0.7195548335326307\n",
            "0.833433755486361\n",
            "0\n",
            "0\n",
            "0\n",
            "0\n",
            "0\n",
            "0\n",
            "0\n",
            "0\n",
            "0\n",
            "0\n",
            "0\n",
            "0\n",
            "0\n",
            "0\n",
            "0\n",
            "0\n",
            "0\n",
            "0\n",
            "\n",
            "Concept:3:\n",
            "0.12724213180694355\n",
            "0.3599555157589984\n",
            "0.3599555157589984\n",
            "0.5926688997110534\n",
            "0.8053134517355538\n",
            "1.0380268356876088\n",
            "1.5034536035917188\n",
            "1.7361669875437737\n",
            "2.2015937554478837\n",
            "0.12724213180694355\n",
            "0.12724213180694355\n",
            "0.12724213180694355\n",
            "0.12724213180694355\n",
            "0.12724213180694355\n",
            "0\n",
            "0\n",
            "0\n",
            "0\n",
            "0\n",
            "0\n",
            "0\n",
            "0\n",
            "0.21264455202450042\n",
            "0.21264455202450042\n",
            "0.21264455202450042\n",
            "0.21264455202450042\n",
            "0.21264455202450042\n",
            "0\n",
            "0\n",
            "0\n",
            "0\n",
            "0\n",
            "0\n",
            "0\n",
            "0\n",
            "0\n",
            "0.05644664752726566\n",
            "0.05644664752726566\n",
            "0.05644664752726566\n",
            "0.05644664752726566\n",
            "0.11289329505453122\n",
            "0.1693399425817968\n",
            "0.29658207438874035\n",
            "0.29658207438874035\n",
            "0\n",
            "0\n",
            "0\n",
            "0\n",
            "0\n",
            "0\n",
            "0\n",
            "0\n",
            "0\n",
            "0\n"
          ],
          "name": "stdout"
        }
      ]
    },
    {
      "cell_type": "code",
      "metadata": {
        "id": "vKCR89AsKfM5",
        "colab_type": "code",
        "outputId": "bdbbcf59-2024-4616-e637-26e794e909c0",
        "colab": {
          "base_uri": "https://localhost:8080/",
          "height": 67
        }
      },
      "source": [
        "import nltk\n",
        "nltk.download('wordnet')"
      ],
      "execution_count": 0,
      "outputs": [
        {
          "output_type": "stream",
          "text": [
            "[nltk_data] Downloading package wordnet to /root/nltk_data...\n",
            "[nltk_data]   Unzipping corpora/wordnet.zip.\n"
          ],
          "name": "stdout"
        },
        {
          "output_type": "execute_result",
          "data": {
            "text/plain": [
              "True"
            ]
          },
          "metadata": {
            "tags": []
          },
          "execution_count": 25
        }
      ]
    },
    {
      "cell_type": "code",
      "metadata": {
        "id": "3-AHX3NgM5JQ",
        "colab_type": "code",
        "colab": {}
      },
      "source": [
        "synonyms = []\n",
        "antonyms = []\n",
        "\n",
        "for syn in wordnet.synsets(\"good\"):\n",
        "  for s in syn.lemmas():\n",
        "    synonyms.append(s.name())\n",
        "    for a in s.antonyms():\n",
        "      antonyms.append(a.name())\n",
        "      "
      ],
      "execution_count": 0,
      "outputs": []
    },
    {
      "cell_type": "code",
      "metadata": {
        "id": "rlmfITayNav-",
        "colab_type": "code",
        "outputId": "e47385e5-6fbe-4f12-d9c1-ea4e0a17cf97",
        "colab": {
          "base_uri": "https://localhost:8080/",
          "height": 70
        }
      },
      "source": [
        "print(set(synonyms))\n",
        "print(set(antonyms))"
      ],
      "execution_count": 0,
      "outputs": [
        {
          "output_type": "stream",
          "text": [
            "{'trade_good', 'beneficial', 'skillful', 'honest', 'estimable', 'undecomposed', 'thoroughly', 'proficient', 'unspoiled', 'ripe', 'goodness', 'in_force', 'upright', 'dependable', 'commodity', 'skilful', 'secure', 'honorable', 'just', 'expert', 'well', 'near', 'adept', 'salutary', 'soundly', 'effective', 'unspoilt', 'dear', 'right', 'good', 'safe', 'respectable', 'in_effect', 'sound', 'practiced', 'serious', 'full'}\n",
            "{'evilness', 'ill', 'evil', 'badness', 'bad'}\n"
          ],
          "name": "stdout"
        }
      ]
    },
    {
      "cell_type": "code",
      "metadata": {
        "id": "KM2idknFNsbr",
        "colab_type": "code",
        "colab": {}
      },
      "source": [
        "import nltk"
      ],
      "execution_count": 0,
      "outputs": []
    },
    {
      "cell_type": "code",
      "metadata": {
        "id": "t-0OgmjlPka8",
        "colab_type": "code",
        "colab": {}
      },
      "source": [
        "sentence = \"I was not happy with the performance of the team\""
      ],
      "execution_count": 0,
      "outputs": []
    },
    {
      "cell_type": "code",
      "metadata": {
        "id": "A_k2sf1QPsFB",
        "colab_type": "code",
        "colab": {}
      },
      "source": [
        "words = nltk.word_tokenize(sentence)"
      ],
      "execution_count": 0,
      "outputs": []
    },
    {
      "cell_type": "code",
      "metadata": {
        "id": "2flsvFrnPxcp",
        "colab_type": "code",
        "outputId": "454926a1-06c3-4bdd-de36-fd203e862cb6",
        "colab": {
          "base_uri": "https://localhost:8080/",
          "height": 34
        }
      },
      "source": [
        "words"
      ],
      "execution_count": 0,
      "outputs": [
        {
          "output_type": "execute_result",
          "data": {
            "text/plain": [
              "['I', 'was', 'not', 'happy', 'with', 'the', 'performance', 'of', 'the', 'team']"
            ]
          },
          "metadata": {
            "tags": []
          },
          "execution_count": 42
        }
      ]
    },
    {
      "cell_type": "code",
      "metadata": {
        "id": "3v7SysETPyJo",
        "colab_type": "code",
        "colab": {}
      },
      "source": [
        "new_words = []"
      ],
      "execution_count": 0,
      "outputs": []
    },
    {
      "cell_type": "code",
      "metadata": {
        "id": "EG63VG_xP1sc",
        "colab_type": "code",
        "colab": {}
      },
      "source": [
        "temp_word = \"\""
      ],
      "execution_count": 0,
      "outputs": []
    },
    {
      "cell_type": "code",
      "metadata": {
        "id": "lHmXOKG8P4JR",
        "colab_type": "code",
        "colab": {}
      },
      "source": [
        "for word in words:\n",
        "    if word == 'not':\n",
        "        temp_word = 'not_'\n",
        "    elif temp_word == 'not_':\n",
        "        word = temp_word + word\n",
        "        temp_word = ''\n",
        "    if word != 'not':\n",
        "        new_words.append(word)"
      ],
      "execution_count": 0,
      "outputs": []
    },
    {
      "cell_type": "code",
      "metadata": {
        "id": "5SXvP06mQbjZ",
        "colab_type": "code",
        "outputId": "84a0b8ea-9f09-41f3-e0b6-7f4dcd7b5502",
        "colab": {
          "base_uri": "https://localhost:8080/",
          "height": 34
        }
      },
      "source": [
        "new_words"
      ],
      "execution_count": 0,
      "outputs": [
        {
          "output_type": "execute_result",
          "data": {
            "text/plain": [
              "['I', 'was', 'not_happy', 'with', 'the', 'performance', 'of', 'the', 'team']"
            ]
          },
          "metadata": {
            "tags": []
          },
          "execution_count": 46
        }
      ]
    },
    {
      "cell_type": "code",
      "metadata": {
        "id": "aeGlZt1FQsWs",
        "colab_type": "code",
        "colab": {}
      },
      "source": [
        "sentence = \" \".join(new_words)"
      ],
      "execution_count": 0,
      "outputs": []
    },
    {
      "cell_type": "code",
      "metadata": {
        "id": "uYZOHkCiRL5H",
        "colab_type": "code",
        "outputId": "104be1a6-0a25-49b3-b08c-afb1fafcd638",
        "colab": {
          "base_uri": "https://localhost:8080/",
          "height": 34
        }
      },
      "source": [
        "sentence"
      ],
      "execution_count": 0,
      "outputs": [
        {
          "output_type": "execute_result",
          "data": {
            "text/plain": [
              "'I was not_happy with the performance of the team'"
            ]
          },
          "metadata": {
            "tags": []
          },
          "execution_count": 48
        }
      ]
    },
    {
      "cell_type": "code",
      "metadata": {
        "id": "YOFJuYrcRMuC",
        "colab_type": "code",
        "colab": {}
      },
      "source": [
        "new_words = []\n",
        "\n",
        "temp_word = \"\"\n",
        "\n",
        "for word in words:\n",
        "    antonyms = []\n",
        "    if word == 'not':\n",
        "        temp_word = 'not_'\n",
        "    elif temp_word == 'not_':\n",
        "       for syn in wordnet.synsets(\"good\"):\n",
        "           for s in syn.lemmas():\n",
        "               for a in s.antonyms():\n",
        "                   antonyms.append(a.name())\n",
        "       if len(antonyms) >= 1:\n",
        "          word = antonyms[0]\n",
        "       else:\n",
        "          word = temp_word + word\n",
        "       temp_word = \"\"\n",
        "    if word != 'not':\n",
        "        new_words.append(word) "
      ],
      "execution_count": 0,
      "outputs": []
    },
    {
      "cell_type": "code",
      "metadata": {
        "id": "fBclvLFjZD4I",
        "colab_type": "code",
        "colab": {}
      },
      "source": [
        "sentence = \" \".join(new_words)"
      ],
      "execution_count": 0,
      "outputs": []
    },
    {
      "cell_type": "code",
      "metadata": {
        "id": "aMeRijVQZ2xW",
        "colab_type": "code",
        "outputId": "35c3450a-cbca-4729-9781-e0b3f2b37f28",
        "colab": {
          "base_uri": "https://localhost:8080/",
          "height": 34
        }
      },
      "source": [
        "sentence"
      ],
      "execution_count": 0,
      "outputs": [
        {
          "output_type": "execute_result",
          "data": {
            "text/plain": [
              "'I was evil with the performance of the team'"
            ]
          },
          "metadata": {
            "tags": []
          },
          "execution_count": 51
        }
      ]
    },
    {
      "cell_type": "code",
      "metadata": {
        "id": "JpvfSCJfZ4YB",
        "colab_type": "code",
        "colab": {}
      },
      "source": [
        ""
      ],
      "execution_count": 0,
      "outputs": []
    }
  ]
}