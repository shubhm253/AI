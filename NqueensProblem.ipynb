{
  "nbformat": 4,
  "nbformat_minor": 0,
  "metadata": {
    "colab": {
      "name": "NqueensProblem.ipynb",
      "version": "0.3.2",
      "provenance": [],
      "collapsed_sections": []
    },
    "kernelspec": {
      "name": "python3",
      "display_name": "Python 3"
    }
  },
  "cells": [
    {
      "cell_type": "code",
      "metadata": {
        "id": "HnFMe4ZMIeYw",
        "colab_type": "code",
        "colab": {
          "base_uri": "https://localhost:8080/",
          "height": 230
        },
        "outputId": "e47bc015-bbb8-4c9f-f221-25e9b5c82242"
      },
      "source": [
        "class QueenProblem:\n",
        "    def __init__(self, size):\n",
        "        self.size = size\n",
        "        self.columns = []\n",
        " \n",
        "    def place_in_next_row(self, column):\n",
        "        self.columns.append(column)\n",
        " \n",
        "    def remove_in_current_row(self):\n",
        "        return self.columns.pop()\n",
        " \n",
        "    def is_this_column_safe_in_next_row(self, column):\n",
        "        row = len(self.columns)\n",
        " \n",
        "        \n",
        "        for queen_column in self.columns:\n",
        "            if column == queen_column:\n",
        "                return False\n",
        " \n",
        "       \n",
        "        for queen_row, queen_column in enumerate(self.columns):\n",
        "            if queen_column - queen_row == column - row:\n",
        "                return False\n",
        " \n",
        "        \n",
        "        for queen_row, queen_column in enumerate(self.columns):\n",
        "            if ((self.size - queen_column) - queen_row\n",
        "                == (self.size - column) - row):\n",
        "                return False\n",
        " \n",
        "        return True\n",
        " \n",
        "    def display(self):\n",
        "        for row in range(self.size):\n",
        "            for column in range(self.size):\n",
        "                if column == self.columns[row]:\n",
        "                    print('Q', end=' ')\n",
        "                else:\n",
        "                    print('.', end=' ')\n",
        "            print()\n",
        " \n",
        " \n",
        "def solve_queen(size):\n",
        "    board = QueenProblem(size)\n",
        "    solutions = 0\n",
        "    row = 0\n",
        "    column = 0\n",
        "    \n",
        "    while True:\n",
        "       \n",
        "        while column < size:\n",
        "            if board.is_this_column_safe_in_next_row(column):\n",
        "                board.place_in_next_row(column)\n",
        "                row += 1\n",
        "                column = 0\n",
        "                break\n",
        "            else:\n",
        "                column += 1\n",
        " \n",
        "        \n",
        "        if (column == size or row == size):\n",
        "            \n",
        "            if row == size:\n",
        "                board.display()\n",
        "                print()\n",
        "                solutions += 1\n",
        " \n",
        "               \n",
        "                board.remove_in_current_row()\n",
        "                row -= 1\n",
        " \n",
        "           \n",
        "            try:\n",
        "                prev_column = board.remove_in_current_row()\n",
        "            except IndexError:\n",
        "                \n",
        "                break\n",
        "            \n",
        "            row -= 1\n",
        "           \n",
        "            column = 1 + prev_column\n",
        " \n",
        "    print('Solutions:', solutions)\n",
        " \n",
        " \n",
        "n = int(input('Enter the value of n: '))\n",
        "solve_queen(n)"
      ],
      "execution_count": 3,
      "outputs": [
        {
          "output_type": "stream",
          "text": [
            "Enter the value of n: 4\n",
            ". Q . . \n",
            ". . . Q \n",
            "Q . . . \n",
            ". . Q . \n",
            "\n",
            ". . Q . \n",
            "Q . . . \n",
            ". . . Q \n",
            ". Q . . \n",
            "\n",
            "Solutions: 2\n"
          ],
          "name": "stdout"
        }
      ]
    },
    {
      "cell_type": "code",
      "metadata": {
        "id": "e4J0Zs3pI8lK",
        "colab_type": "code",
        "colab": {}
      },
      "source": [
        "2"
      ],
      "execution_count": 0,
      "outputs": []
    }
  ]
}