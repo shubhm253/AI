{
  "nbformat": 4,
  "nbformat_minor": 0,
  "metadata": {
    "colab": {
      "name": "Assignment2_BFS_DFS_ShubhamBhatt_06.ipynb",
      "version": "0.3.2",
      "provenance": [],
      "collapsed_sections": []
    },
    "kernelspec": {
      "name": "python3",
      "display_name": "Python 3"
    }
  },
  "cells": [
    {
      "cell_type": "markdown",
      "metadata": {
        "id": "qwYqjP4Bleh2",
        "colab_type": "text"
      },
      "source": [
        "BFS"
      ]
    },
    {
      "cell_type": "markdown",
      "metadata": {
        "id": "2n7Gh4AKlsB3",
        "colab_type": "text"
      },
      "source": [
        "Formation of Graph "
      ]
    },
    {
      "cell_type": "code",
      "metadata": {
        "id": "ULY8EUFJlwkl",
        "colab_type": "code",
        "colab": {}
      },
      "source": [
        "GraphBFS = {1 : [8,14],\n",
        "         3 : [51,6,9],\n",
        "         6 : [3,8,51,57],\n",
        "         8 : [1,6,9,42],\n",
        "         9 : [3,8],\n",
        "         14 : [1,97],\n",
        "         42 : [],\n",
        "         51 : [3,6],\n",
        "         57 : [],\n",
        "         97 : []}"
      ],
      "execution_count": 0,
      "outputs": []
    },
    {
      "cell_type": "markdown",
      "metadata": {
        "id": "QiPlzqNAmgw0",
        "colab_type": "text"
      },
      "source": [
        "Function to implement BFS"
      ]
    },
    {
      "cell_type": "code",
      "metadata": {
        "id": "mruKfeHmmCGw",
        "colab_type": "code",
        "colab": {}
      },
      "source": [
        "def bfs(GraphBFS,start):\n",
        "    visited = []\n",
        "    queue = [start]\n",
        "    while queue:\n",
        "        node = queue.pop(0)\n",
        "        if node not in visited:\n",
        "            visited.append(node)\n",
        "            neighbours = GraphBFS[node]           \n",
        "            for neighbour in neighbours:\n",
        "                queue.append(neighbour)\n",
        "    return visited"
      ],
      "execution_count": 0,
      "outputs": []
    },
    {
      "cell_type": "markdown",
      "metadata": {
        "id": "Fjy5GZnamnCb",
        "colab_type": "text"
      },
      "source": [
        "Function Call"
      ]
    },
    {
      "cell_type": "code",
      "metadata": {
        "id": "M5jXCZaPmR2k",
        "colab_type": "code",
        "colab": {
          "base_uri": "https://localhost:8080/",
          "height": 34
        },
        "outputId": "d6652cc1-93d5-45be-b5bb-2aa68cf1ba18"
      },
      "source": [
        "bfs(GraphBFS,1)"
      ],
      "execution_count": 4,
      "outputs": [
        {
          "output_type": "execute_result",
          "data": {
            "text/plain": [
              "[1, 8, 14, 6, 9, 42, 97, 3, 51, 57]"
            ]
          },
          "metadata": {
            "tags": []
          },
          "execution_count": 4
        }
      ]
    },
    {
      "cell_type": "markdown",
      "metadata": {
        "id": "2klE_AWXm4pD",
        "colab_type": "text"
      },
      "source": [
        "DFS"
      ]
    },
    {
      "cell_type": "markdown",
      "metadata": {
        "id": "QG2jEVQjontC",
        "colab_type": "text"
      },
      "source": [
        "Function to implement DFS"
      ]
    },
    {
      "cell_type": "code",
      "metadata": {
        "id": "sOkBEp7Lmego",
        "colab_type": "code",
        "colab": {}
      },
      "source": [
        "def dfs(GraphDFS, start):\n",
        "    stack = [start]\n",
        "    path = []\n",
        "    \n",
        "    while stack:\n",
        "        vertex = stack.pop()\n",
        "        if vertex in path:\n",
        "            continue\n",
        "        path.append(vertex)\n",
        "        for neighbour in GraphDFS[vertex]:\n",
        "            stack.append(neighbour)\n",
        "    return path"
      ],
      "execution_count": 0,
      "outputs": []
    },
    {
      "cell_type": "markdown",
      "metadata": {
        "id": "o_xy5pJMouQK",
        "colab_type": "text"
      },
      "source": [
        "Adjacency Matrix for DFS"
      ]
    },
    {
      "cell_type": "code",
      "metadata": {
        "id": "HUZjObEXoQMv",
        "colab_type": "code",
        "colab": {}
      },
      "source": [
        "MatrixDFS = {1 : [8,14],\n",
        "         3 : [51,6,9],\n",
        "         6 : [3,8,51,57],\n",
        "         8 : [1,6,9,42],\n",
        "         9 : [3,8],\n",
        "         14 : [1,97],\n",
        "         42 : [],\n",
        "         51 : [3,6],\n",
        "         57 : [],\n",
        "         97 : []}"
      ],
      "execution_count": 0,
      "outputs": []
    },
    {
      "cell_type": "markdown",
      "metadata": {
        "id": "hv8lnaCho0Qv",
        "colab_type": "text"
      },
      "source": [
        "Function Call"
      ]
    },
    {
      "cell_type": "code",
      "metadata": {
        "id": "vaq1gOPWoY4O",
        "colab_type": "code",
        "colab": {
          "base_uri": "https://localhost:8080/",
          "height": 34
        },
        "outputId": "a326597b-8692-4f42-f410-b3c2350bbf50"
      },
      "source": [
        "print(dfs(MatrixDFS,1))"
      ],
      "execution_count": 7,
      "outputs": [
        {
          "output_type": "stream",
          "text": [
            "[1, 14, 97, 8, 42, 9, 3, 6, 57, 51]\n"
          ],
          "name": "stdout"
        }
      ]
    },
    {
      "cell_type": "code",
      "metadata": {
        "id": "R-2FeS44ogbr",
        "colab_type": "code",
        "colab": {}
      },
      "source": [
        ""
      ],
      "execution_count": 0,
      "outputs": []
    }
  ]
}