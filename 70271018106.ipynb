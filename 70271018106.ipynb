{
  "nbformat": 4,
  "nbformat_minor": 0,
  "metadata": {
    "colab": {
      "name": "70271018106.ipynb",
      "provenance": [],
      "collapsed_sections": [],
      "include_colab_link": true
    },
    "kernelspec": {
      "name": "python3",
      "display_name": "Python 3"
    }
  },
  "cells": [
    {
      "cell_type": "markdown",
      "metadata": {
        "id": "view-in-github",
        "colab_type": "text"
      },
      "source": [
        "<a href=\"https://colab.research.google.com/github/shubhm253/AI/blob/master/70271018106.ipynb\" target=\"_parent\"><img src=\"https://colab.research.google.com/assets/colab-badge.svg\" alt=\"Open In Colab\"/></a>"
      ]
    },
    {
      "cell_type": "code",
      "metadata": {
        "id": "uLR6LUpAXDuJ",
        "colab_type": "code",
        "outputId": "5818e584-e54b-42d3-ffc8-62fc2b095273",
        "colab": {
          "base_uri": "https://localhost:8080/",
          "height": 54
        }
      },
      "source": [
        "\"\"\"\n",
        "#ANSWER 1 \n",
        "\n",
        "E) All of these \n",
        "(All of the techniques can be used for the purpose of engineering features in a model)\n",
        "\n",
        "#ANSWER 2\n",
        "\n",
        "D) Alpha: density of topics generated within documents, beta: density of terms generated within topics\n",
        "\n",
        "#ANSWER 3\n",
        "\n",
        "D) 7, 4, 2\n",
        "(Nouns: I, New, Delhi, Analytics, Vidhya, Delhi, Hackathon (7)\n",
        "\n",
        "Verbs: am, planning, visit, attend (4)\n",
        "\n",
        "Words with frequency counts > 1: to, Delhi (2)\n",
        "\n",
        "Hence option D is correct.)\n",
        "\n",
        "#ANSWER 4\n",
        "\n",
        "B) K * Log(3) / T\n",
        "(formula for TF is K/T\n",
        "\n",
        "formula for IDF is log(total docs / no of docs containing “data”)\n",
        "\n",
        "= log(1 / (⅓))\n",
        "\n",
        "= log (3)\n",
        "\n",
        "Hence correct choice is Klog(3)/T)\n",
        "\n",
        "#ANSWER 5\n",
        "\n",
        "C) d2 and d4\n",
        "(Both of the documents d2 and d4 contains 4 terms and does not contain the least number of terms which is 3.)\n",
        "\n",
        "#ANSWER 6\n",
        "\n",
        "A) t4, t6\n",
        "\n",
        "#ANSWER 7\n",
        "\n",
        "B) t3 – 3/6\n",
        "\n",
        "\"\"\"\n",
        "\n"
      ],
      "execution_count": 0,
      "outputs": [
        {
          "output_type": "execute_result",
          "data": {
            "text/plain": [
              "'\\n#ANSWER 1 \\n\\nE) All of these \\n(All of the techniques can be used for the purpose of engineering features in a model)\\n\\n#ANSWER 2\\n\\nD) Alpha: density of topics generated within documents, beta: density of terms generated within topics\\n\\n#ANSWER 3\\n\\nD) 7, 4, 2\\n(Nouns: I, New, Delhi, Analytics, Vidhya, Delhi, Hackathon (7)\\n\\nVerbs: am, planning, visit, attend (4)\\n\\nWords with frequency counts > 1: to, Delhi (2)\\n\\nHence option D is correct.)\\n\\n#ANSWER 4\\n\\nB) K * Log(3) / T\\n(formula for TF is K/T\\n\\nformula for IDF is log(total docs / no of docs containing “data”)\\n\\n= log(1 / (⅓))\\n\\n= log (3)\\n\\nHence correct choice is Klog(3)/T)\\n\\n#ANSWER 5\\n\\nC) d2 and d4\\n(Both of the documents d2 and d4 contains 4 terms and does not contain the least number of terms which is 3.)\\n\\n#ANSWER 6\\n\\nA) t4, t6\\n\\n#ANSWER 7\\n\\nB) t3 – 3/6\\n\\n'"
            ]
          },
          "metadata": {
            "tags": []
          },
          "execution_count": 4
        }
      ]
    },
    {
      "cell_type": "markdown",
      "metadata": {
        "id": "XCbCoRoQtlSc",
        "colab_type": "text"
      },
      "source": [
        "Import the required libraries for LDA and NMF.\n",
        "We will be using Gensim to do LDA and sklearn for NMF."
      ]
    },
    {
      "cell_type": "code",
      "metadata": {
        "id": "2qywHDdGZkCM",
        "colab_type": "code",
        "colab": {}
      },
      "source": [
        "import pandas as pd\n",
        "import numpy as np\n",
        "import scipy as sp\n",
        "import sklearn\n",
        "import sys\n",
        "from nltk.corpus import stopwords\n",
        "import nltk\n",
        "from gensim.models import ldamodel\n",
        "import gensim.corpora\n",
        "from sklearn.feature_extraction.text import CountVectorizer, TfidfTransformer\n",
        "from sklearn.decomposition import NMF\n",
        "from sklearn.preprocessing import normalize\n",
        "import pickle"
      ],
      "execution_count": 0,
      "outputs": []
    },
    {
      "cell_type": "markdown",
      "metadata": {
        "id": "QIczgg9fuDau",
        "colab_type": "text"
      },
      "source": [
        "Upload the required file on google colab."
      ]
    },
    {
      "cell_type": "code",
      "metadata": {
        "id": "GzY8CYOehL_J",
        "colab_type": "code",
        "colab": {
          "resources": {
            "http://localhost:8080/nbextensions/google.colab/files.js": {
              "data": "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",
              "ok": true,
              "headers": [
                [
                  "content-type",
                  "application/javascript"
                ]
              ],
              "status": 200,
              "status_text": ""
            }
          },
          "base_uri": "https://localhost:8080/",
          "height": 74
        },
        "outputId": "72d0c0eb-6fe9-4a10-f2f8-69b3032104e7"
      },
      "source": [
        "from google.colab import files\n",
        "uploaded = files.upload()"
      ],
      "execution_count": 6,
      "outputs": [
        {
          "output_type": "display_data",
          "data": {
            "text/html": [
              "\n",
              "     <input type=\"file\" id=\"files-ef3966cf-4e4c-441a-a349-9f91b66b1a0b\" name=\"files[]\" multiple disabled />\n",
              "     <output id=\"result-ef3966cf-4e4c-441a-a349-9f91b66b1a0b\">\n",
              "      Upload widget is only available when the cell has been executed in the\n",
              "      current browser session. Please rerun this cell to enable.\n",
              "      </output>\n",
              "      <script src=\"/nbextensions/google.colab/files.js\"></script> "
            ],
            "text/plain": [
              "<IPython.core.display.HTML object>"
            ]
          },
          "metadata": {
            "tags": []
          }
        },
        {
          "output_type": "stream",
          "text": [
            "Saving scotch_review.csv to scotch_review.csv\n"
          ],
          "name": "stdout"
        }
      ]
    },
    {
      "cell_type": "markdown",
      "metadata": {
        "id": "44Jyoq81uMrg",
        "colab_type": "text"
      },
      "source": [
        "Read the uploaded csv file."
      ]
    },
    {
      "cell_type": "code",
      "metadata": {
        "id": "uTk9XTg6nkQr",
        "colab_type": "code",
        "colab": {}
      },
      "source": [
        "dataset = pd.read_csv('scotch_review.csv')"
      ],
      "execution_count": 0,
      "outputs": []
    },
    {
      "cell_type": "markdown",
      "metadata": {
        "id": "eIVdgpdFuSjH",
        "colab_type": "text"
      },
      "source": [
        "Overview of the dataset"
      ]
    },
    {
      "cell_type": "code",
      "metadata": {
        "id": "quF69rC8oLAz",
        "colab_type": "code",
        "colab": {
          "base_uri": "https://localhost:8080/",
          "height": 204
        },
        "outputId": "aef259e7-db50-4e45-efce-414c91874b61"
      },
      "source": [
        "dataset.head(5)"
      ],
      "execution_count": 8,
      "outputs": [
        {
          "output_type": "execute_result",
          "data": {
            "text/html": [
              "<div>\n",
              "<style scoped>\n",
              "    .dataframe tbody tr th:only-of-type {\n",
              "        vertical-align: middle;\n",
              "    }\n",
              "\n",
              "    .dataframe tbody tr th {\n",
              "        vertical-align: top;\n",
              "    }\n",
              "\n",
              "    .dataframe thead th {\n",
              "        text-align: right;\n",
              "    }\n",
              "</style>\n",
              "<table border=\"1\" class=\"dataframe\">\n",
              "  <thead>\n",
              "    <tr style=\"text-align: right;\">\n",
              "      <th></th>\n",
              "      <th>Unnamed: 0</th>\n",
              "      <th>name</th>\n",
              "      <th>category</th>\n",
              "      <th>review.point</th>\n",
              "      <th>price</th>\n",
              "      <th>currency</th>\n",
              "      <th>description</th>\n",
              "    </tr>\n",
              "  </thead>\n",
              "  <tbody>\n",
              "    <tr>\n",
              "      <th>0</th>\n",
              "      <td>1</td>\n",
              "      <td>Johnnie Walker Blue Label, 40%</td>\n",
              "      <td>Blended Scotch Whisky</td>\n",
              "      <td>97</td>\n",
              "      <td>225</td>\n",
              "      <td>$</td>\n",
              "      <td>Magnificently powerful and intense. Caramels, ...</td>\n",
              "    </tr>\n",
              "    <tr>\n",
              "      <th>1</th>\n",
              "      <td>2</td>\n",
              "      <td>Black Bowmore, 1964 vintage, 42 year old, 40.5%</td>\n",
              "      <td>Single Malt Scotch</td>\n",
              "      <td>97</td>\n",
              "      <td>4500.00</td>\n",
              "      <td>$</td>\n",
              "      <td>What impresses me most is how this whisky evol...</td>\n",
              "    </tr>\n",
              "    <tr>\n",
              "      <th>2</th>\n",
              "      <td>3</td>\n",
              "      <td>Bowmore 46 year old (distilled 1964), 42.9%</td>\n",
              "      <td>Single Malt Scotch</td>\n",
              "      <td>97</td>\n",
              "      <td>13500.00</td>\n",
              "      <td>$</td>\n",
              "      <td>There have been some legendary Bowmores from t...</td>\n",
              "    </tr>\n",
              "    <tr>\n",
              "      <th>3</th>\n",
              "      <td>4</td>\n",
              "      <td>Compass Box The General, 53.4%</td>\n",
              "      <td>Blended Malt Scotch Whisky</td>\n",
              "      <td>96</td>\n",
              "      <td>325</td>\n",
              "      <td>$</td>\n",
              "      <td>With a name inspired by a 1926 Buster Keaton m...</td>\n",
              "    </tr>\n",
              "    <tr>\n",
              "      <th>4</th>\n",
              "      <td>5</td>\n",
              "      <td>Chivas Regal Ultis, 40%</td>\n",
              "      <td>Blended Malt Scotch Whisky</td>\n",
              "      <td>96</td>\n",
              "      <td>160</td>\n",
              "      <td>$</td>\n",
              "      <td>Captivating, enticing, and wonderfully charmin...</td>\n",
              "    </tr>\n",
              "  </tbody>\n",
              "</table>\n",
              "</div>"
            ],
            "text/plain": [
              "   Unnamed: 0  ...                                        description\n",
              "0           1  ...  Magnificently powerful and intense. Caramels, ...\n",
              "1           2  ...  What impresses me most is how this whisky evol...\n",
              "2           3  ...  There have been some legendary Bowmores from t...\n",
              "3           4  ...  With a name inspired by a 1926 Buster Keaton m...\n",
              "4           5  ...  Captivating, enticing, and wonderfully charmin...\n",
              "\n",
              "[5 rows x 7 columns]"
            ]
          },
          "metadata": {
            "tags": []
          },
          "execution_count": 8
        }
      ]
    },
    {
      "cell_type": "markdown",
      "metadata": {
        "id": "U8XqJIBhuY0g",
        "colab_type": "text"
      },
      "source": [
        "We only need the description text column from the data"
      ]
    },
    {
      "cell_type": "code",
      "metadata": {
        "id": "ESpZTP5AoM-n",
        "colab_type": "code",
        "colab": {}
      },
      "source": [
        "data_text = dataset[['description']];"
      ],
      "execution_count": 0,
      "outputs": []
    },
    {
      "cell_type": "markdown",
      "metadata": {
        "id": "-bNtnE3MuhhO",
        "colab_type": "text"
      },
      "source": [
        "Check for null values if there are any."
      ]
    },
    {
      "cell_type": "code",
      "metadata": {
        "id": "Q1lnkpfJoYEX",
        "colab_type": "code",
        "colab": {
          "base_uri": "https://localhost:8080/",
          "height": 51
        },
        "outputId": "8bca16d1-a2a5-4d21-8d36-d437b4d43b2b"
      },
      "source": [
        "data_text.isnull().sum()"
      ],
      "execution_count": 10,
      "outputs": [
        {
          "output_type": "execute_result",
          "data": {
            "text/plain": [
              "description    0\n",
              "dtype: int64"
            ]
          },
          "metadata": {
            "tags": []
          },
          "execution_count": 10
        }
      ]
    },
    {
      "cell_type": "markdown",
      "metadata": {
        "id": "2ymAQkCDunvs",
        "colab_type": "text"
      },
      "source": [
        "Import stopwords"
      ]
    },
    {
      "cell_type": "code",
      "metadata": {
        "id": "zMyygwexpSaH",
        "colab_type": "code",
        "colab": {
          "base_uri": "https://localhost:8080/",
          "height": 68
        },
        "outputId": "ebde539c-c3ea-4e71-a33f-a7bea62d88e9"
      },
      "source": [
        "import nltk\n",
        "nltk.download('stopwords')"
      ],
      "execution_count": 13,
      "outputs": [
        {
          "output_type": "stream",
          "text": [
            "[nltk_data] Downloading package stopwords to /root/nltk_data...\n",
            "[nltk_data]   Unzipping corpora/stopwords.zip.\n"
          ],
          "name": "stdout"
        },
        {
          "output_type": "execute_result",
          "data": {
            "text/plain": [
              "True"
            ]
          },
          "metadata": {
            "tags": []
          },
          "execution_count": 13
        }
      ]
    },
    {
      "cell_type": "markdown",
      "metadata": {
        "id": "6janb94HurYR",
        "colab_type": "text"
      },
      "source": [
        "Remove stopwords."
      ]
    },
    {
      "cell_type": "code",
      "metadata": {
        "id": "A3aek0AIoru-",
        "colab_type": "code",
        "colab": {}
      },
      "source": [
        "for idx in range(len(data_text)):\n",
        "  data_text.iloc[idx]['description'] = [word for word in data_text.iloc[idx]['description'].split(' ') if word not in stopwords.words()];\n",
        "    "
      ],
      "execution_count": 0,
      "outputs": []
    },
    {
      "cell_type": "code",
      "metadata": {
        "id": "plU5kebdqtkS",
        "colab_type": "code",
        "colab": {}
      },
      "source": [
        "if idx % 1000 == 0:\n",
        "  sys.stdout.write('\\rc = ' + str(idx) + ' / ' + str(len(data_text)));"
      ],
      "execution_count": 0,
      "outputs": []
    },
    {
      "cell_type": "markdown",
      "metadata": {
        "id": "V8Sk2dPhuv-o",
        "colab_type": "text"
      },
      "source": [
        "save data in a pickle file for further usage."
      ]
    },
    {
      "cell_type": "code",
      "metadata": {
        "id": "YQEuWpzRquai",
        "colab_type": "code",
        "colab": {}
      },
      "source": [
        "pickle.dump(data_text, open('data_text.dat', 'wb'))"
      ],
      "execution_count": 0,
      "outputs": []
    },
    {
      "cell_type": "markdown",
      "metadata": {
        "id": "N1zw67Wju6_-",
        "colab_type": "text"
      },
      "source": [
        "Get the words as an array for lda input"
      ]
    },
    {
      "cell_type": "code",
      "metadata": {
        "id": "t8Ph3Twqqudl",
        "colab_type": "code",
        "colab": {}
      },
      "source": [
        "train_description = [value[0] for value in data_text.iloc[0:].values];"
      ],
      "execution_count": 0,
      "outputs": []
    },
    {
      "cell_type": "markdown",
      "metadata": {
        "id": "9lJpaULLu_XH",
        "colab_type": "text"
      },
      "source": [
        "Number of topics we will cluster for: 5"
      ]
    },
    {
      "cell_type": "code",
      "metadata": {
        "id": "b3sUPbvKqugS",
        "colab_type": "code",
        "colab": {}
      },
      "source": [
        "num_topics = 5;"
      ],
      "execution_count": 0,
      "outputs": []
    },
    {
      "cell_type": "markdown",
      "metadata": {
        "id": "kDyee-yNvG0y",
        "colab_type": "text"
      },
      "source": [
        "We will use the gensim library for LDA. First, we obtain a id-2-word dictionary. For each headline, we will use the dictionary to obtain a mapping of the word id to their word counts. The LDA model uses both of these mappings."
      ]
    },
    {
      "cell_type": "code",
      "metadata": {
        "id": "ynbR3Ic0quij",
        "colab_type": "code",
        "colab": {}
      },
      "source": [
        "id2word = gensim.corpora.Dictionary(train_description)\n",
        "corpus = [id2word.doc2bow(text) for text in train_description]\n",
        "lda = ldamodel.LdaModel(corpus=corpus, id2word=id2word, num_topics=num_topics)"
      ],
      "execution_count": 0,
      "outputs": []
    },
    {
      "cell_type": "markdown",
      "metadata": {
        "id": "CNxyGcRVvLwx",
        "colab_type": "text"
      },
      "source": [
        "We will iterate over the number of topics, get the top words in each cluster, and add them to a DataFrame, than print these words."
      ]
    },
    {
      "cell_type": "code",
      "metadata": {
        "id": "2qizO1JOqumt",
        "colab_type": "code",
        "colab": {}
      },
      "source": [
        "def get_lda_topics(model, num_topics):\n",
        "    word_dict = {};\n",
        "    for i in range(num_topics):\n",
        "        words = model.show_topic(i, topn = 20);\n",
        "        word_dict['Topic # ' + '{:02d}'.format(i+1)] = [i[0] for i in words];\n",
        "    return pd.DataFrame(word_dict);"
      ],
      "execution_count": 0,
      "outputs": []
    },
    {
      "cell_type": "markdown",
      "metadata": {
        "id": "kWqLdKBovPzh",
        "colab_type": "text"
      },
      "source": [
        "Call the function and obtain the topics."
      ]
    },
    {
      "cell_type": "code",
      "metadata": {
        "id": "VOZBn6iMqulZ",
        "colab_type": "code",
        "colab": {
          "base_uri": "https://localhost:8080/",
          "height": 669
        },
        "outputId": "5089c301-664c-46d7-b223-ff6a25f524c6"
      },
      "source": [
        "get_lda_topics(lda, num_topics)"
      ],
      "execution_count": 21,
      "outputs": [
        {
          "output_type": "execute_result",
          "data": {
            "text/html": [
              "<div>\n",
              "<style scoped>\n",
              "    .dataframe tbody tr th:only-of-type {\n",
              "        vertical-align: middle;\n",
              "    }\n",
              "\n",
              "    .dataframe tbody tr th {\n",
              "        vertical-align: top;\n",
              "    }\n",
              "\n",
              "    .dataframe thead th {\n",
              "        text-align: right;\n",
              "    }\n",
              "</style>\n",
              "<table border=\"1\" class=\"dataframe\">\n",
              "  <thead>\n",
              "    <tr style=\"text-align: right;\">\n",
              "      <th></th>\n",
              "      <th>Topic # 01</th>\n",
              "      <th>Topic # 02</th>\n",
              "      <th>Topic # 03</th>\n",
              "      <th>Topic # 04</th>\n",
              "      <th>Topic # 05</th>\n",
              "    </tr>\n",
              "  </thead>\n",
              "  <tbody>\n",
              "    <tr>\n",
              "      <th>0</th>\n",
              "      <td>The</td>\n",
              "      <td>The</td>\n",
              "      <td>The</td>\n",
              "      <td>The</td>\n",
              "      <td>whisky</td>\n",
              "    </tr>\n",
              "    <tr>\n",
              "      <th>1</th>\n",
              "      <td>A</td>\n",
              "      <td>palate</td>\n",
              "      <td>This</td>\n",
              "      <td>A</td>\n",
              "      <td>A</td>\n",
              "    </tr>\n",
              "    <tr>\n",
              "      <th>2</th>\n",
              "      <td>notes</td>\n",
              "      <td>old</td>\n",
              "      <td>year</td>\n",
              "      <td>notes</td>\n",
              "      <td>The</td>\n",
              "    </tr>\n",
              "    <tr>\n",
              "      <th>3</th>\n",
              "      <td>finish.</td>\n",
              "      <td>A</td>\n",
              "      <td>I</td>\n",
              "      <td>whisky</td>\n",
              "      <td>notes</td>\n",
              "    </tr>\n",
              "    <tr>\n",
              "      <th>4</th>\n",
              "      <td>\\r\\n</td>\n",
              "      <td>year</td>\n",
              "      <td>whisky</td>\n",
              "      <td>palate</td>\n",
              "      <td>little</td>\n",
              "    </tr>\n",
              "    <tr>\n",
              "      <th>5</th>\n",
              "      <td>whisky</td>\n",
              "      <td>finish</td>\n",
              "      <td>palate</td>\n",
              "      <td>nose</td>\n",
              "      <td>smoke</td>\n",
              "    </tr>\n",
              "    <tr>\n",
              "      <th>6</th>\n",
              "      <td>I</td>\n",
              "      <td>nose</td>\n",
              "      <td>notes</td>\n",
              "      <td>finish.</td>\n",
              "      <td>sweet</td>\n",
              "    </tr>\n",
              "    <tr>\n",
              "      <th>7</th>\n",
              "      <td>nose</td>\n",
              "      <td>This</td>\n",
              "      <td>A</td>\n",
              "      <td>This</td>\n",
              "      <td>like</td>\n",
              "    </tr>\n",
              "    <tr>\n",
              "      <th>8</th>\n",
              "      <td>sweet</td>\n",
              "      <td>palate,</td>\n",
              "      <td>old</td>\n",
              "      <td>sweet</td>\n",
              "      <td>finish.</td>\n",
              "    </tr>\n",
              "    <tr>\n",
              "      <th>9</th>\n",
              "      <td>palate,</td>\n",
              "      <td>sherry</td>\n",
              "      <td>like</td>\n",
              "      <td>light</td>\n",
              "      <td>I</td>\n",
              "    </tr>\n",
              "    <tr>\n",
              "      <th>10</th>\n",
              "      <td>This</td>\n",
              "      <td>nose,</td>\n",
              "      <td>finish</td>\n",
              "      <td>finish</td>\n",
              "      <td>sherry</td>\n",
              "    </tr>\n",
              "    <tr>\n",
              "      <th>11</th>\n",
              "      <td>sherry</td>\n",
              "      <td>spicy</td>\n",
              "      <td>little</td>\n",
              "      <td>\\r\\n</td>\n",
              "      <td>finish</td>\n",
              "    </tr>\n",
              "    <tr>\n",
              "      <th>12</th>\n",
              "      <td>citrus</td>\n",
              "      <td>hint</td>\n",
              "      <td>It’s</td>\n",
              "      <td>oak</td>\n",
              "      <td>This</td>\n",
              "    </tr>\n",
              "    <tr>\n",
              "      <th>13</th>\n",
              "      <td>fruit</td>\n",
              "      <td>cask</td>\n",
              "      <td>it’s</td>\n",
              "      <td>malt</td>\n",
              "      <td>fruit</td>\n",
              "    </tr>\n",
              "    <tr>\n",
              "      <th>14</th>\n",
              "      <td>oak</td>\n",
              "      <td>matured</td>\n",
              "      <td>fruit</td>\n",
              "      <td>vanilla</td>\n",
              "      <td>fruit,</td>\n",
              "    </tr>\n",
              "    <tr>\n",
              "      <th>15</th>\n",
              "      <td>year</td>\n",
              "      <td>It</td>\n",
              "      <td>nose</td>\n",
              "      <td>I</td>\n",
              "      <td>years</td>\n",
              "    </tr>\n",
              "    <tr>\n",
              "      <th>16</th>\n",
              "      <td>It</td>\n",
              "      <td>single</td>\n",
              "      <td>finish.</td>\n",
              "      <td>sherry</td>\n",
              "      <td>light</td>\n",
              "    </tr>\n",
              "    <tr>\n",
              "      <th>17</th>\n",
              "      <td>fruit,</td>\n",
              "      <td>black</td>\n",
              "      <td>sweet</td>\n",
              "      <td>it’s</td>\n",
              "      <td>vanilla,</td>\n",
              "    </tr>\n",
              "    <tr>\n",
              "      <th>18</th>\n",
              "      <td>smoke</td>\n",
              "      <td>expression</td>\n",
              "      <td>cask</td>\n",
              "      <td>vanilla,</td>\n",
              "      <td>It</td>\n",
              "    </tr>\n",
              "    <tr>\n",
              "      <th>19</th>\n",
              "      <td>hint</td>\n",
              "      <td>whisky</td>\n",
              "      <td>oak</td>\n",
              "      <td>fruit</td>\n",
              "      <td>nose</td>\n",
              "    </tr>\n",
              "  </tbody>\n",
              "</table>\n",
              "</div>"
            ],
            "text/plain": [
              "   Topic # 01  Topic # 02 Topic # 03 Topic # 04 Topic # 05\n",
              "0         The         The        The        The     whisky\n",
              "1           A      palate       This          A          A\n",
              "2       notes         old       year      notes        The\n",
              "3     finish.           A          I     whisky      notes\n",
              "4        \\r\\n        year     whisky     palate     little\n",
              "5      whisky      finish     palate       nose      smoke\n",
              "6           I        nose      notes    finish.      sweet\n",
              "7        nose        This          A       This       like\n",
              "8       sweet     palate,        old      sweet    finish.\n",
              "9     palate,      sherry       like      light          I\n",
              "10       This       nose,     finish     finish     sherry\n",
              "11     sherry       spicy     little       \\r\\n     finish\n",
              "12     citrus        hint       It’s        oak       This\n",
              "13      fruit        cask       it’s       malt      fruit\n",
              "14        oak     matured      fruit    vanilla     fruit,\n",
              "15       year          It       nose          I      years\n",
              "16         It      single    finish.     sherry      light\n",
              "17     fruit,       black      sweet       it’s   vanilla,\n",
              "18      smoke  expression       cask   vanilla,         It\n",
              "19       hint      whisky        oak      fruit       nose"
            ]
          },
          "metadata": {
            "tags": []
          },
          "execution_count": 21
        }
      ]
    },
    {
      "cell_type": "markdown",
      "metadata": {
        "id": "E8bAlEqava_Y",
        "colab_type": "text"
      },
      "source": [
        "NMF\n",
        "\n",
        "the count vectorizer needs string inputs, not array, so I join them with a space."
      ]
    },
    {
      "cell_type": "code",
      "metadata": {
        "id": "hr9aNDEfpGFH",
        "colab_type": "code",
        "colab": {}
      },
      "source": [
        "train_description_sentences = [' '.join(text) for text in train_description]"
      ],
      "execution_count": 0,
      "outputs": []
    },
    {
      "cell_type": "markdown",
      "metadata": {
        "id": "tfQllY3bvjq5",
        "colab_type": "text"
      },
      "source": [
        "Obtain a Counts design matrix. Because the size of the matrix will be large, we can set the max_features to 5000."
      ]
    },
    {
      "cell_type": "code",
      "metadata": {
        "id": "TPYqrKEIrN6r",
        "colab_type": "code",
        "colab": {}
      },
      "source": [
        "vectorizer = CountVectorizer(analyzer='word', max_features=5000);\n",
        "x_counts = vectorizer.fit_transform(train_description_sentences);"
      ],
      "execution_count": 0,
      "outputs": []
    },
    {
      "cell_type": "markdown",
      "metadata": {
        "id": "7dmpB6EXvqnA",
        "colab_type": "text"
      },
      "source": [
        "set a TfIdf transformer, and transfer the counts with the model."
      ]
    },
    {
      "cell_type": "code",
      "metadata": {
        "id": "iGvITm10rOAJ",
        "colab_type": "code",
        "colab": {}
      },
      "source": [
        "transformer = TfidfTransformer(smooth_idf=False);\n",
        "x_tfidf = transformer.fit_transform(x_counts);"
      ],
      "execution_count": 0,
      "outputs": []
    },
    {
      "cell_type": "markdown",
      "metadata": {
        "id": "OYC1A0ZDvv94",
        "colab_type": "text"
      },
      "source": [
        "Normalize the TfIdf values so each row has unit length."
      ]
    },
    {
      "cell_type": "code",
      "metadata": {
        "id": "TuIWksx1rODD",
        "colab_type": "code",
        "colab": {}
      },
      "source": [
        "xtfidf_norm = normalize(x_tfidf, norm='l1', axis=1)"
      ],
      "execution_count": 0,
      "outputs": []
    },
    {
      "cell_type": "markdown",
      "metadata": {
        "id": "CbSAIdVDv1nH",
        "colab_type": "text"
      },
      "source": [
        "Obtain a NMF model."
      ]
    },
    {
      "cell_type": "code",
      "metadata": {
        "id": "kXTMZyVtrOGA",
        "colab_type": "code",
        "colab": {}
      },
      "source": [
        "model = NMF(n_components=num_topics, init='nndsvd');"
      ],
      "execution_count": 0,
      "outputs": []
    },
    {
      "cell_type": "markdown",
      "metadata": {
        "id": "pO7OIyBsv4WX",
        "colab_type": "text"
      },
      "source": [
        "Fit the model"
      ]
    },
    {
      "cell_type": "code",
      "metadata": {
        "id": "feV9ECfVrOKf",
        "colab_type": "code",
        "colab": {
          "base_uri": "https://localhost:8080/",
          "height": 68
        },
        "outputId": "03454352-22fc-4e33-8a9a-bb4c39b2eb63"
      },
      "source": [
        "model.fit(xtfidf_norm)"
      ],
      "execution_count": 27,
      "outputs": [
        {
          "output_type": "execute_result",
          "data": {
            "text/plain": [
              "NMF(alpha=0.0, beta_loss='frobenius', init='nndsvd', l1_ratio=0.0, max_iter=200,\n",
              "    n_components=5, random_state=None, shuffle=False, solver='cd', tol=0.0001,\n",
              "    verbose=0)"
            ]
          },
          "metadata": {
            "tags": []
          },
          "execution_count": 27
        }
      ]
    },
    {
      "cell_type": "markdown",
      "metadata": {
        "id": "adtvMc-nv_Pq",
        "colab_type": "text"
      },
      "source": [
        "Generating NMF topics:\n",
        "We are going to iterate over each topic, obtain the most important scoring words in each cluster, and add them to a Dataframe, as before."
      ]
    },
    {
      "cell_type": "code",
      "metadata": {
        "id": "jtuwv4TSrN-G",
        "colab_type": "code",
        "colab": {}
      },
      "source": [
        "def get_nmf_topics(model, n_top_words):\n",
        "    \n",
        "    #the word ids obtained need to be reverse-mapped to the words so we can print the topic names.\n",
        "    feat_names = vectorizer.get_feature_names()\n",
        "    \n",
        "    word_dict = {};\n",
        "    for i in range(num_topics):\n",
        "        \n",
        "        #for each topic, obtain the largest values, and add the words they map to into the dictionary.\n",
        "        words_ids = model.components_[i].argsort()[:-20 - 1:-1]\n",
        "        words = [feat_names[key] for key in words_ids]\n",
        "        word_dict['Topic # ' + '{:02d}'.format(i+1)] = words;\n",
        "    \n",
        "    return pd.DataFrame(word_dict);"
      ],
      "execution_count": 0,
      "outputs": []
    },
    {
      "cell_type": "markdown",
      "metadata": {
        "id": "T8dbWMspwB8v",
        "colab_type": "text"
      },
      "source": [
        "Call the function and obtain the topics"
      ]
    },
    {
      "cell_type": "code",
      "metadata": {
        "id": "kiolqgqsrjlJ",
        "colab_type": "code",
        "colab": {
          "base_uri": "https://localhost:8080/",
          "height": 669
        },
        "outputId": "a5155e61-d264-44d4-ed8c-a603405a435d"
      },
      "source": [
        "get_nmf_topics(model, 20)"
      ],
      "execution_count": 29,
      "outputs": [
        {
          "output_type": "execute_result",
          "data": {
            "text/html": [
              "<div>\n",
              "<style scoped>\n",
              "    .dataframe tbody tr th:only-of-type {\n",
              "        vertical-align: middle;\n",
              "    }\n",
              "\n",
              "    .dataframe tbody tr th {\n",
              "        vertical-align: top;\n",
              "    }\n",
              "\n",
              "    .dataframe thead th {\n",
              "        text-align: right;\n",
              "    }\n",
              "</style>\n",
              "<table border=\"1\" class=\"dataframe\">\n",
              "  <thead>\n",
              "    <tr style=\"text-align: right;\">\n",
              "      <th></th>\n",
              "      <th>Topic # 01</th>\n",
              "      <th>Topic # 02</th>\n",
              "      <th>Topic # 03</th>\n",
              "      <th>Topic # 04</th>\n",
              "      <th>Topic # 05</th>\n",
              "    </tr>\n",
              "  </thead>\n",
              "  <tbody>\n",
              "    <tr>\n",
              "      <th>0</th>\n",
              "      <td>sherry</td>\n",
              "      <td>required</td>\n",
              "      <td>color</td>\n",
              "      <td>smoke</td>\n",
              "      <td>whisky</td>\n",
              "    </tr>\n",
              "    <tr>\n",
              "      <th>1</th>\n",
              "      <td>nose</td>\n",
              "      <td>grandfather</td>\n",
              "      <td>aroma</td>\n",
              "      <td>peat</td>\n",
              "      <td>notes</td>\n",
              "    </tr>\n",
              "    <tr>\n",
              "      <th>2</th>\n",
              "      <td>the</td>\n",
              "      <td>kills</td>\n",
              "      <td>gold</td>\n",
              "      <td>the</td>\n",
              "      <td>old</td>\n",
              "    </tr>\n",
              "    <tr>\n",
              "      <th>3</th>\n",
              "      <td>chocolate</td>\n",
              "      <td>stirs</td>\n",
              "      <td>body</td>\n",
              "      <td>water</td>\n",
              "      <td>vanilla</td>\n",
              "    </tr>\n",
              "    <tr>\n",
              "      <th>4</th>\n",
              "      <td>oak</td>\n",
              "      <td>envelope</td>\n",
              "      <td>fruit</td>\n",
              "      <td>it</td>\n",
              "      <td>year</td>\n",
              "    </tr>\n",
              "    <tr>\n",
              "      <th>5</th>\n",
              "      <td>matured</td>\n",
              "      <td>books</td>\n",
              "      <td>flavors</td>\n",
              "      <td>there</td>\n",
              "      <td>fruit</td>\n",
              "    </tr>\n",
              "    <tr>\n",
              "      <th>6</th>\n",
              "      <td>casks</td>\n",
              "      <td>port</td>\n",
              "      <td>notes</td>\n",
              "      <td>like</td>\n",
              "      <td>oak</td>\n",
              "    </tr>\n",
              "    <tr>\n",
              "      <th>7</th>\n",
              "      <td>finish</td>\n",
              "      <td>meet</td>\n",
              "      <td>vanilla</td>\n",
              "      <td>little</td>\n",
              "      <td>clean</td>\n",
              "    </tr>\n",
              "    <tr>\n",
              "      <th>8</th>\n",
              "      <td>spicy</td>\n",
              "      <td>wooded</td>\n",
              "      <td>aromas</td>\n",
              "      <td>fruits</td>\n",
              "      <td>spice</td>\n",
              "    </tr>\n",
              "    <tr>\n",
              "      <th>9</th>\n",
              "      <td>palate</td>\n",
              "      <td>lacking</td>\n",
              "      <td>dry</td>\n",
              "      <td>palate</td>\n",
              "      <td>honeyed</td>\n",
              "    </tr>\n",
              "    <tr>\n",
              "      <th>10</th>\n",
              "      <td>bourbon</td>\n",
              "      <td>called</td>\n",
              "      <td>honey</td>\n",
              "      <td>sweet</td>\n",
              "      <td>subtle</td>\n",
              "    </tr>\n",
              "    <tr>\n",
              "      <th>11</th>\n",
              "      <td>ginger</td>\n",
              "      <td>venerable</td>\n",
              "      <td>amber</td>\n",
              "      <td>light</td>\n",
              "      <td>finish</td>\n",
              "    </tr>\n",
              "    <tr>\n",
              "      <th>12</th>\n",
              "      <td>bottles</td>\n",
              "      <td>sitting</td>\n",
              "      <td>soft</td>\n",
              "      <td>this</td>\n",
              "      <td>it</td>\n",
              "    </tr>\n",
              "    <tr>\n",
              "      <th>13</th>\n",
              "      <td>sweet</td>\n",
              "      <td>450</td>\n",
              "      <td>texture</td>\n",
              "      <td>distillery</td>\n",
              "      <td>quite</td>\n",
              "    </tr>\n",
              "    <tr>\n",
              "      <th>14</th>\n",
              "      <td>milk</td>\n",
              "      <td>stops</td>\n",
              "      <td>finish</td>\n",
              "      <td>sweetness</td>\n",
              "      <td>this</td>\n",
              "    </tr>\n",
              "    <tr>\n",
              "      <th>15</th>\n",
              "      <td>vanilla</td>\n",
              "      <td>59</td>\n",
              "      <td>rich</td>\n",
              "      <td>note</td>\n",
              "      <td>toffee</td>\n",
              "    </tr>\n",
              "    <tr>\n",
              "      <th>16</th>\n",
              "      <td>spices</td>\n",
              "      <td>doubt</td>\n",
              "      <td>toffee</td>\n",
              "      <td>apple</td>\n",
              "      <td>nicely</td>\n",
              "    </tr>\n",
              "    <tr>\n",
              "      <th>17</th>\n",
              "      <td>long</td>\n",
              "      <td>sloe</td>\n",
              "      <td>balanced</td>\n",
              "      <td>here</td>\n",
              "      <td>very</td>\n",
              "    </tr>\n",
              "    <tr>\n",
              "      <th>18</th>\n",
              "      <td>medium</td>\n",
              "      <td>energy</td>\n",
              "      <td>creamy</td>\n",
              "      <td>smoky</td>\n",
              "      <td>nice</td>\n",
              "    </tr>\n",
              "    <tr>\n",
              "      <th>19</th>\n",
              "      <td>malt</td>\n",
              "      <td>filtering</td>\n",
              "      <td>floral</td>\n",
              "      <td>shows</td>\n",
              "      <td>foundation</td>\n",
              "    </tr>\n",
              "  </tbody>\n",
              "</table>\n",
              "</div>"
            ],
            "text/plain": [
              "   Topic # 01   Topic # 02 Topic # 03  Topic # 04  Topic # 05\n",
              "0      sherry     required      color       smoke      whisky\n",
              "1        nose  grandfather      aroma        peat       notes\n",
              "2         the        kills       gold         the         old\n",
              "3   chocolate        stirs       body       water     vanilla\n",
              "4         oak     envelope      fruit          it        year\n",
              "5     matured        books    flavors       there       fruit\n",
              "6       casks         port      notes        like         oak\n",
              "7      finish         meet    vanilla      little       clean\n",
              "8       spicy       wooded     aromas      fruits       spice\n",
              "9      palate      lacking        dry      palate     honeyed\n",
              "10    bourbon       called      honey       sweet      subtle\n",
              "11     ginger    venerable      amber       light      finish\n",
              "12    bottles      sitting       soft        this          it\n",
              "13      sweet          450    texture  distillery       quite\n",
              "14       milk        stops     finish   sweetness        this\n",
              "15    vanilla           59       rich        note      toffee\n",
              "16     spices        doubt     toffee       apple      nicely\n",
              "17       long         sloe   balanced        here        very\n",
              "18     medium       energy     creamy       smoky        nice\n",
              "19       malt    filtering     floral       shows  foundation"
            ]
          },
          "metadata": {
            "tags": []
          },
          "execution_count": 29
        }
      ]
    },
    {
      "cell_type": "code",
      "metadata": {
        "id": "C_kTeTQfrjxh",
        "colab_type": "code",
        "colab": {}
      },
      "source": [
        ""
      ],
      "execution_count": 0,
      "outputs": []
    },
    {
      "cell_type": "code",
      "metadata": {
        "id": "3B1aJGhtrj0w",
        "colab_type": "code",
        "colab": {}
      },
      "source": [
        ""
      ],
      "execution_count": 0,
      "outputs": []
    }
  ]
}